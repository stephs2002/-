{
 "cells": [
  {
   "cell_type": "markdown",
   "metadata": {
    "id": "MGMEZPJiLTk6"
   },
   "source": [
    "## Мини-исследование на основе данных из Spotify. \"Что делает популярную песню популярной?\"\n",
    "\n",
    "### Источник данных: \"Популярность треков в Spotify по жанрам\" https://www.kaggle.com/datasets/thedevastator/popularity-of-spotify-top-tracks-by-genre\n",
    "\n",
    "**Описание данных:**\n",
    "\n",
    "- `artist` - псевдоним артиста\n",
    "- `name` - название трека\n",
    "- `popularity` - место трека в рейтинге популярных песен на Spotify\n",
    "- `duration_ms` - длительность трека в миллисекундах\n",
    "- `acousticness` - насколько акустическим является трек (присутствие живых интструментов, живого пространства в треке). От 0 до 1\n",
    "- `instrumentalness` - инструментальность трека, насколько много инструментов присутствует в треке. От 0 до 1\n",
    "- `liveness` - насколько \"живым\" является исполнение трека (полностью искусственная запись или запись живого выступления). От 0 до 1\n",
    "- `Loudness` - громкость трека (в децибелах)\n",
    "- `speechiness` - насколько много лирики в тексте. От 0 до 1\n",
    "- `tempo` - темп песни (beats per minute)\n",
    "- `positive` - бинарная переменная, отражающая настроение песни. 1 - позитивное, 0 - негавтиное\n",
    "- `drive` - энергичность песни. 1 - песня способна заставить слушателя танцевать. 0 - не способна\n",
    "\n",
    "**Вопросы:**\n",
    "- **Могут ли объективные показатели трека повлиять на его популярность?**\n",
    "До сих пор не существует единой \"формулы\" для создания хита. Многие хорошо спродюсированные треки занимают низкие места в чартах, тогда как записанные за один вечер шлягеры быстро становятся популярными. В чём дело? В субъективной харизме артиста, привычках аудитории или в таких объективных показателях трека, как темп, громкость, подбор инструментов? Все эти характеристики есть в наших данных, что поможет нам (не) выявить взаимосвязь между объективными показателями песни и её местом в чартах\n",
    "- **Какие факторы влияют на популярность песни?**\n",
    "Считается, что в электронных жанрах музыки, где важен бас, преобладают только определённые тональности, потому что бас в них звучит лучше. Если объективные факторы действительно могут влиять на популярность трека, то какие из них являются значимыми, а какие - нет?\n",
    "- **Как написать свой хит?**\n",
    "В конце мы попробуем сами написать свою песню и подставить её в модель, чтобы узнать, станет ли наша песня популярной или нет? :)\n",
    "\n",
    "**Гипотезы:**\n",
    "- **Объективные показатели влияют на качество трека.**\n",
    "Как было сказано выше, есть исследования, которые показывают, что в популярных песнях преобладают определённые тональности. Наши данные должны подтвердить наличие взаимосвязи между объективными показателями трека и его популярностью\n",
    "- **На популярность трека влияет его энергичность.**\n",
    "Трек, который заставляет людей двигаться и испытывать яркие эмоции, скорее будет выше в чартах\n",
    "- **На популярность трека вляиет его длительность.**\n",
    "Чем дольше трек, тем скучнее будет среднестатистическому пользователю его слушать\n",
    "- **На популярность трека не влияет его громкость.**\n",
    "В конце прошлого века в музыкальной индустрии существовала так называемая \"война громкостей\", когда продюсеры старались выжать из трека максимум громкости, чтобы он больше нравился аудитории. Однако с появлением современных стриминговых сервисов были введены единые стандарты громкости LUFS, которые \"выравнивают\" субъективную громкость каждого трека. Поэтому изначальная громкость трека никак не будет влиять на его популярность"
   ]
  },
  {
   "cell_type": "markdown",
   "metadata": {
    "id": "Ba-mHK08LTlB"
   },
   "source": [
    "**Сортировка данных в датафрейме**"
   ]
  },
  {
   "cell_type": "code",
   "execution_count": null,
   "metadata": {
    "id": "aq8x6DVc_SgL"
   },
   "outputs": [],
   "source": [
    "import pandas as pd\n",
    "import numpy as np\n",
    "from matplotlib import pyplot as plt\n",
    "import seaborn as sns\n",
    "import scipy.stats as st\n",
    "from statsmodels.formula.api import ols"
   ]
  },
  {
   "cell_type": "code",
   "execution_count": null,
   "metadata": {
    "id": "Kckm3gJT_Uwd"
   },
   "outputs": [],
   "source": [
    "df = pd.read_csv('C:/Users/eremisque/Downloads/archive/artist_tracks_data.csv')"
   ]
  },
  {
   "cell_type": "code",
   "execution_count": null,
   "metadata": {
    "colab": {
     "base_uri": "https://localhost:8080/",
     "height": 730
    },
    "id": "NfwOS6HN_dSa",
    "outputId": "6cc19c5d-08c6-4fbf-ecb3-63e954bfff31"
   },
   "outputs": [
    {
     "data": {
      "text/html": [
       "<div>\n",
       "<style scoped>\n",
       "    .dataframe tbody tr th:only-of-type {\n",
       "        vertical-align: middle;\n",
       "    }\n",
       "\n",
       "    .dataframe tbody tr th {\n",
       "        vertical-align: top;\n",
       "    }\n",
       "\n",
       "    .dataframe thead th {\n",
       "        text-align: right;\n",
       "    }\n",
       "</style>\n",
       "<table border=\"1\" class=\"dataframe\">\n",
       "  <thead>\n",
       "    <tr style=\"text-align: right;\">\n",
       "      <th></th>\n",
       "      <th>artist</th>\n",
       "      <th>album</th>\n",
       "      <th>track_number</th>\n",
       "      <th>id</th>\n",
       "      <th>name</th>\n",
       "      <th>uri</th>\n",
       "      <th>duration_ms</th>\n",
       "      <th>acousticness</th>\n",
       "      <th>danceability</th>\n",
       "      <th>energy</th>\n",
       "      <th>instrumentalness</th>\n",
       "      <th>liveness</th>\n",
       "      <th>loudness</th>\n",
       "      <th>speechiness</th>\n",
       "      <th>tempo</th>\n",
       "      <th>valence</th>\n",
       "      <th>popularity</th>\n",
       "    </tr>\n",
       "  </thead>\n",
       "  <tbody>\n",
       "    <tr>\n",
       "      <th>118</th>\n",
       "      <td>Jona</td>\n",
       "      <td>Shockwave</td>\n",
       "      <td>7</td>\n",
       "      <td>6ed1lBLIhu3qh0g4AVfYkU</td>\n",
       "      <td>Back in Time</td>\n",
       "      <td>spotify:track:6ed1lBLIhu3qh0g4AVfYkU</td>\n",
       "      <td>160877</td>\n",
       "      <td>0.01080</td>\n",
       "      <td>0.783</td>\n",
       "      <td>0.824</td>\n",
       "      <td>0.000795</td>\n",
       "      <td>0.0748</td>\n",
       "      <td>-4.558</td>\n",
       "      <td>0.0598</td>\n",
       "      <td>139.998</td>\n",
       "      <td>0.413</td>\n",
       "      <td>0</td>\n",
       "    </tr>\n",
       "    <tr>\n",
       "      <th>354</th>\n",
       "      <td>Sarah Geronimo</td>\n",
       "      <td>Just Me</td>\n",
       "      <td>5</td>\n",
       "      <td>3ry8wn6DD5WmQbvjSsEeLH</td>\n",
       "      <td>Silence</td>\n",
       "      <td>spotify:track:3ry8wn6DD5WmQbvjSsEeLH</td>\n",
       "      <td>181600</td>\n",
       "      <td>0.17900</td>\n",
       "      <td>0.823</td>\n",
       "      <td>0.641</td>\n",
       "      <td>0.000015</td>\n",
       "      <td>0.0988</td>\n",
       "      <td>-6.385</td>\n",
       "      <td>0.0417</td>\n",
       "      <td>109.972</td>\n",
       "      <td>0.400</td>\n",
       "      <td>0</td>\n",
       "    </tr>\n",
       "    <tr>\n",
       "      <th>119</th>\n",
       "      <td>Jona</td>\n",
       "      <td>Shockwave</td>\n",
       "      <td>8</td>\n",
       "      <td>65K8VVI6U0r1T5fCpooglH</td>\n",
       "      <td>Hitta</td>\n",
       "      <td>spotify:track:65K8VVI6U0r1T5fCpooglH</td>\n",
       "      <td>170807</td>\n",
       "      <td>0.00794</td>\n",
       "      <td>0.746</td>\n",
       "      <td>0.938</td>\n",
       "      <td>0.000016</td>\n",
       "      <td>0.3540</td>\n",
       "      <td>-2.822</td>\n",
       "      <td>0.0658</td>\n",
       "      <td>145.012</td>\n",
       "      <td>0.238</td>\n",
       "      <td>0</td>\n",
       "    </tr>\n",
       "    <tr>\n",
       "      <th>357</th>\n",
       "      <td>Sarah Geronimo</td>\n",
       "      <td>Just Me</td>\n",
       "      <td>8</td>\n",
       "      <td>2IHBHNOtlytpsHijHCJN3z</td>\n",
       "      <td>Just Me</td>\n",
       "      <td>spotify:track:2IHBHNOtlytpsHijHCJN3z</td>\n",
       "      <td>220920</td>\n",
       "      <td>0.22000</td>\n",
       "      <td>0.558</td>\n",
       "      <td>0.683</td>\n",
       "      <td>0.000000</td>\n",
       "      <td>0.4390</td>\n",
       "      <td>-6.665</td>\n",
       "      <td>0.2930</td>\n",
       "      <td>134.645</td>\n",
       "      <td>0.691</td>\n",
       "      <td>0</td>\n",
       "    </tr>\n",
       "    <tr>\n",
       "      <th>399</th>\n",
       "      <td>Sarah Geronimo</td>\n",
       "      <td>Becoming</td>\n",
       "      <td>13</td>\n",
       "      <td>3lryKhtVc0UHBaCeOO5GC3</td>\n",
       "      <td>Peace Is All We Know</td>\n",
       "      <td>spotify:track:3lryKhtVc0UHBaCeOO5GC3</td>\n",
       "      <td>196306</td>\n",
       "      <td>0.46100</td>\n",
       "      <td>0.698</td>\n",
       "      <td>0.815</td>\n",
       "      <td>0.000000</td>\n",
       "      <td>0.0796</td>\n",
       "      <td>-4.641</td>\n",
       "      <td>0.0308</td>\n",
       "      <td>92.987</td>\n",
       "      <td>0.781</td>\n",
       "      <td>0</td>\n",
       "    </tr>\n",
       "    <tr>\n",
       "      <th>...</th>\n",
       "      <td>...</td>\n",
       "      <td>...</td>\n",
       "      <td>...</td>\n",
       "      <td>...</td>\n",
       "      <td>...</td>\n",
       "      <td>...</td>\n",
       "      <td>...</td>\n",
       "      <td>...</td>\n",
       "      <td>...</td>\n",
       "      <td>...</td>\n",
       "      <td>...</td>\n",
       "      <td>...</td>\n",
       "      <td>...</td>\n",
       "      <td>...</td>\n",
       "      <td>...</td>\n",
       "      <td>...</td>\n",
       "      <td>...</td>\n",
       "    </tr>\n",
       "    <tr>\n",
       "      <th>71</th>\n",
       "      <td>Jona</td>\n",
       "      <td>Shockwave</td>\n",
       "      <td>8</td>\n",
       "      <td>244AoGCbxOWUhaRzTR7Spz</td>\n",
       "      <td>Hitta (feat. Juicy J)</td>\n",
       "      <td>spotify:track:244AoGCbxOWUhaRzTR7Spz</td>\n",
       "      <td>170807</td>\n",
       "      <td>0.01700</td>\n",
       "      <td>0.732</td>\n",
       "      <td>0.956</td>\n",
       "      <td>0.000007</td>\n",
       "      <td>0.3570</td>\n",
       "      <td>-2.775</td>\n",
       "      <td>0.0708</td>\n",
       "      <td>145.103</td>\n",
       "      <td>0.375</td>\n",
       "      <td>59</td>\n",
       "    </tr>\n",
       "    <tr>\n",
       "      <th>194</th>\n",
       "      <td>Morissette</td>\n",
       "      <td>Morissette</td>\n",
       "      <td>11</td>\n",
       "      <td>1qoXYfWILyuN0EatImGlma</td>\n",
       "      <td>Nothing's Gonna Stop Us Now - From \"Crazy Beau...</td>\n",
       "      <td>spotify:track:1qoXYfWILyuN0EatImGlma</td>\n",
       "      <td>258014</td>\n",
       "      <td>0.21600</td>\n",
       "      <td>0.528</td>\n",
       "      <td>0.603</td>\n",
       "      <td>0.000000</td>\n",
       "      <td>0.3040</td>\n",
       "      <td>-5.883</td>\n",
       "      <td>0.0296</td>\n",
       "      <td>185.998</td>\n",
       "      <td>0.482</td>\n",
       "      <td>60</td>\n",
       "    </tr>\n",
       "    <tr>\n",
       "      <th>167</th>\n",
       "      <td>Jona</td>\n",
       "      <td>Joytime</td>\n",
       "      <td>10</td>\n",
       "      <td>0Q3SC6kEhxYagDP3bFe5K9</td>\n",
       "      <td>Keep It Mello (feat. Omar LinX)</td>\n",
       "      <td>spotify:track:0Q3SC6kEhxYagDP3bFe5K9</td>\n",
       "      <td>243380</td>\n",
       "      <td>0.00134</td>\n",
       "      <td>0.686</td>\n",
       "      <td>0.888</td>\n",
       "      <td>0.000689</td>\n",
       "      <td>0.0736</td>\n",
       "      <td>-3.348</td>\n",
       "      <td>0.0857</td>\n",
       "      <td>142.015</td>\n",
       "      <td>0.108</td>\n",
       "      <td>60</td>\n",
       "    </tr>\n",
       "    <tr>\n",
       "      <th>147</th>\n",
       "      <td>Jona</td>\n",
       "      <td>Joytime III</td>\n",
       "      <td>12</td>\n",
       "      <td>35rozLoS6QLE8HX8qswM3k</td>\n",
       "      <td>Rescue Me</td>\n",
       "      <td>spotify:track:35rozLoS6QLE8HX8qswM3k</td>\n",
       "      <td>237203</td>\n",
       "      <td>0.00803</td>\n",
       "      <td>0.433</td>\n",
       "      <td>0.905</td>\n",
       "      <td>0.000000</td>\n",
       "      <td>0.3370</td>\n",
       "      <td>-2.171</td>\n",
       "      <td>0.1010</td>\n",
       "      <td>148.149</td>\n",
       "      <td>0.375</td>\n",
       "      <td>61</td>\n",
       "    </tr>\n",
       "    <tr>\n",
       "      <th>75</th>\n",
       "      <td>Jona</td>\n",
       "      <td>Shockwave</td>\n",
       "      <td>12</td>\n",
       "      <td>3sOGVdj5VPY6C2XImtlzj7</td>\n",
       "      <td>Shockwave</td>\n",
       "      <td>spotify:track:3sOGVdj5VPY6C2XImtlzj7</td>\n",
       "      <td>181283</td>\n",
       "      <td>0.02310</td>\n",
       "      <td>0.577</td>\n",
       "      <td>0.875</td>\n",
       "      <td>0.000005</td>\n",
       "      <td>0.1110</td>\n",
       "      <td>-2.897</td>\n",
       "      <td>0.0681</td>\n",
       "      <td>164.009</td>\n",
       "      <td>0.411</td>\n",
       "      <td>69</td>\n",
       "    </tr>\n",
       "  </tbody>\n",
       "</table>\n",
       "<p>436 rows × 17 columns</p>\n",
       "</div>"
      ],
      "text/plain": [
       "             artist        album  track_number                      id  \\\n",
       "118            Jona    Shockwave             7  6ed1lBLIhu3qh0g4AVfYkU   \n",
       "354  Sarah Geronimo      Just Me             5  3ry8wn6DD5WmQbvjSsEeLH   \n",
       "119            Jona    Shockwave             8  65K8VVI6U0r1T5fCpooglH   \n",
       "357  Sarah Geronimo      Just Me             8  2IHBHNOtlytpsHijHCJN3z   \n",
       "399  Sarah Geronimo     Becoming            13  3lryKhtVc0UHBaCeOO5GC3   \n",
       "..              ...          ...           ...                     ...   \n",
       "71             Jona    Shockwave             8  244AoGCbxOWUhaRzTR7Spz   \n",
       "194      Morissette   Morissette            11  1qoXYfWILyuN0EatImGlma   \n",
       "167            Jona      Joytime            10  0Q3SC6kEhxYagDP3bFe5K9   \n",
       "147            Jona  Joytime III            12  35rozLoS6QLE8HX8qswM3k   \n",
       "75             Jona    Shockwave            12  3sOGVdj5VPY6C2XImtlzj7   \n",
       "\n",
       "                                                  name  \\\n",
       "118                                       Back in Time   \n",
       "354                                            Silence   \n",
       "119                                              Hitta   \n",
       "357                                            Just Me   \n",
       "399                               Peace Is All We Know   \n",
       "..                                                 ...   \n",
       "71                               Hitta (feat. Juicy J)   \n",
       "194  Nothing's Gonna Stop Us Now - From \"Crazy Beau...   \n",
       "167                    Keep It Mello (feat. Omar LinX)   \n",
       "147                                          Rescue Me   \n",
       "75                                           Shockwave   \n",
       "\n",
       "                                      uri  duration_ms  acousticness  \\\n",
       "118  spotify:track:6ed1lBLIhu3qh0g4AVfYkU       160877       0.01080   \n",
       "354  spotify:track:3ry8wn6DD5WmQbvjSsEeLH       181600       0.17900   \n",
       "119  spotify:track:65K8VVI6U0r1T5fCpooglH       170807       0.00794   \n",
       "357  spotify:track:2IHBHNOtlytpsHijHCJN3z       220920       0.22000   \n",
       "399  spotify:track:3lryKhtVc0UHBaCeOO5GC3       196306       0.46100   \n",
       "..                                    ...          ...           ...   \n",
       "71   spotify:track:244AoGCbxOWUhaRzTR7Spz       170807       0.01700   \n",
       "194  spotify:track:1qoXYfWILyuN0EatImGlma       258014       0.21600   \n",
       "167  spotify:track:0Q3SC6kEhxYagDP3bFe5K9       243380       0.00134   \n",
       "147  spotify:track:35rozLoS6QLE8HX8qswM3k       237203       0.00803   \n",
       "75   spotify:track:3sOGVdj5VPY6C2XImtlzj7       181283       0.02310   \n",
       "\n",
       "     danceability  energy  instrumentalness  liveness  loudness  speechiness  \\\n",
       "118         0.783   0.824          0.000795    0.0748    -4.558       0.0598   \n",
       "354         0.823   0.641          0.000015    0.0988    -6.385       0.0417   \n",
       "119         0.746   0.938          0.000016    0.3540    -2.822       0.0658   \n",
       "357         0.558   0.683          0.000000    0.4390    -6.665       0.2930   \n",
       "399         0.698   0.815          0.000000    0.0796    -4.641       0.0308   \n",
       "..            ...     ...               ...       ...       ...          ...   \n",
       "71          0.732   0.956          0.000007    0.3570    -2.775       0.0708   \n",
       "194         0.528   0.603          0.000000    0.3040    -5.883       0.0296   \n",
       "167         0.686   0.888          0.000689    0.0736    -3.348       0.0857   \n",
       "147         0.433   0.905          0.000000    0.3370    -2.171       0.1010   \n",
       "75          0.577   0.875          0.000005    0.1110    -2.897       0.0681   \n",
       "\n",
       "       tempo  valence  popularity  \n",
       "118  139.998    0.413           0  \n",
       "354  109.972    0.400           0  \n",
       "119  145.012    0.238           0  \n",
       "357  134.645    0.691           0  \n",
       "399   92.987    0.781           0  \n",
       "..       ...      ...         ...  \n",
       "71   145.103    0.375          59  \n",
       "194  185.998    0.482          60  \n",
       "167  142.015    0.108          60  \n",
       "147  148.149    0.375          61  \n",
       "75   164.009    0.411          69  \n",
       "\n",
       "[436 rows x 17 columns]"
      ]
     },
     "execution_count": 3,
     "metadata": {},
     "output_type": "execute_result"
    }
   ],
   "source": [
    "df = df.sort_values('popularity') # сортировка песен от наиболее до наименее популярной\n",
    "df"
   ]
  },
  {
   "cell_type": "markdown",
   "metadata": {
    "id": "EvSdVZdJLTlI"
   },
   "source": [
    "- Важно заметить, что мы имеем дело с рейтингом популярности, где самые низкие значения, наоборот, будут самыми популярными"
   ]
  },
  {
   "cell_type": "code",
   "execution_count": null,
   "metadata": {
    "id": "UJ9fv5UuAfOU"
   },
   "outputs": [],
   "source": [
    "df = df.drop(columns = ['album', 'track_number', 'id', 'uri'], axis=1) # убрали столбцы, которые не влияют на исследование"
   ]
  },
  {
   "cell_type": "code",
   "execution_count": null,
   "metadata": {
    "id": "jxo7tKthyn_B"
   },
   "outputs": [],
   "source": [
    "df = df.reindex(columns=['artist', 'name', 'popularity', 'duration_ms', 'acousticness',\n",
    "                    'danceability', 'energy', 'instrumentalness', 'liveness', 'loudness', 'speechiness',\n",
    "                    'tempo', 'valence']) # поместили стобец popularity в начало для удобства исследования"
   ]
  },
  {
   "cell_type": "code",
   "execution_count": null,
   "metadata": {
    "id": "MC7unF43LTlL",
    "outputId": "5327e634-579d-44a3-8a4b-0ae28f872574"
   },
   "outputs": [
    {
     "data": {
      "text/plain": [
       "artist              0\n",
       "name                0\n",
       "popularity          0\n",
       "duration_ms         0\n",
       "acousticness        0\n",
       "danceability        0\n",
       "energy              0\n",
       "instrumentalness    0\n",
       "liveness            0\n",
       "loudness            0\n",
       "speechiness         0\n",
       "tempo               0\n",
       "valence             0\n",
       "dtype: int64"
      ]
     },
     "execution_count": 6,
     "metadata": {},
     "output_type": "execute_result"
    }
   ],
   "source": [
    "df.isna().sum() # проверяем датасэт на наличие пустых ячеек"
   ]
  },
  {
   "cell_type": "code",
   "execution_count": null,
   "metadata": {
    "colab": {
     "base_uri": "https://localhost:8080/",
     "height": 730
    },
    "id": "ddp_IVhuz1lR",
    "outputId": "b76b8160-820f-4ed2-a447-6ad154e3eab0"
   },
   "outputs": [
    {
     "data": {
      "text/html": [
       "<div>\n",
       "<style scoped>\n",
       "    .dataframe tbody tr th:only-of-type {\n",
       "        vertical-align: middle;\n",
       "    }\n",
       "\n",
       "    .dataframe tbody tr th {\n",
       "        vertical-align: top;\n",
       "    }\n",
       "\n",
       "    .dataframe thead th {\n",
       "        text-align: right;\n",
       "    }\n",
       "</style>\n",
       "<table border=\"1\" class=\"dataframe\">\n",
       "  <thead>\n",
       "    <tr style=\"text-align: right;\">\n",
       "      <th></th>\n",
       "      <th>artist</th>\n",
       "      <th>name</th>\n",
       "      <th>popularity</th>\n",
       "      <th>duration_ms</th>\n",
       "      <th>acousticness</th>\n",
       "      <th>danceability</th>\n",
       "      <th>energy</th>\n",
       "      <th>instrumentalness</th>\n",
       "      <th>liveness</th>\n",
       "      <th>loudness</th>\n",
       "      <th>speechiness</th>\n",
       "      <th>tempo</th>\n",
       "      <th>valence</th>\n",
       "    </tr>\n",
       "  </thead>\n",
       "  <tbody>\n",
       "    <tr>\n",
       "      <th>118</th>\n",
       "      <td>Jona</td>\n",
       "      <td>Back in Time</td>\n",
       "      <td>0</td>\n",
       "      <td>160877</td>\n",
       "      <td>0.01080</td>\n",
       "      <td>0.783</td>\n",
       "      <td>0.824</td>\n",
       "      <td>0.000795</td>\n",
       "      <td>0.0748</td>\n",
       "      <td>-4.558</td>\n",
       "      <td>0.0598</td>\n",
       "      <td>139.998</td>\n",
       "      <td>0.413</td>\n",
       "    </tr>\n",
       "    <tr>\n",
       "      <th>354</th>\n",
       "      <td>Sarah Geronimo</td>\n",
       "      <td>Silence</td>\n",
       "      <td>0</td>\n",
       "      <td>181600</td>\n",
       "      <td>0.17900</td>\n",
       "      <td>0.823</td>\n",
       "      <td>0.641</td>\n",
       "      <td>0.000015</td>\n",
       "      <td>0.0988</td>\n",
       "      <td>-6.385</td>\n",
       "      <td>0.0417</td>\n",
       "      <td>109.972</td>\n",
       "      <td>0.400</td>\n",
       "    </tr>\n",
       "    <tr>\n",
       "      <th>119</th>\n",
       "      <td>Jona</td>\n",
       "      <td>Hitta</td>\n",
       "      <td>0</td>\n",
       "      <td>170807</td>\n",
       "      <td>0.00794</td>\n",
       "      <td>0.746</td>\n",
       "      <td>0.938</td>\n",
       "      <td>0.000016</td>\n",
       "      <td>0.3540</td>\n",
       "      <td>-2.822</td>\n",
       "      <td>0.0658</td>\n",
       "      <td>145.012</td>\n",
       "      <td>0.238</td>\n",
       "    </tr>\n",
       "    <tr>\n",
       "      <th>357</th>\n",
       "      <td>Sarah Geronimo</td>\n",
       "      <td>Just Me</td>\n",
       "      <td>0</td>\n",
       "      <td>220920</td>\n",
       "      <td>0.22000</td>\n",
       "      <td>0.558</td>\n",
       "      <td>0.683</td>\n",
       "      <td>0.000000</td>\n",
       "      <td>0.4390</td>\n",
       "      <td>-6.665</td>\n",
       "      <td>0.2930</td>\n",
       "      <td>134.645</td>\n",
       "      <td>0.691</td>\n",
       "    </tr>\n",
       "    <tr>\n",
       "      <th>399</th>\n",
       "      <td>Sarah Geronimo</td>\n",
       "      <td>Peace Is All We Know</td>\n",
       "      <td>0</td>\n",
       "      <td>196306</td>\n",
       "      <td>0.46100</td>\n",
       "      <td>0.698</td>\n",
       "      <td>0.815</td>\n",
       "      <td>0.000000</td>\n",
       "      <td>0.0796</td>\n",
       "      <td>-4.641</td>\n",
       "      <td>0.0308</td>\n",
       "      <td>92.987</td>\n",
       "      <td>0.781</td>\n",
       "    </tr>\n",
       "    <tr>\n",
       "      <th>...</th>\n",
       "      <td>...</td>\n",
       "      <td>...</td>\n",
       "      <td>...</td>\n",
       "      <td>...</td>\n",
       "      <td>...</td>\n",
       "      <td>...</td>\n",
       "      <td>...</td>\n",
       "      <td>...</td>\n",
       "      <td>...</td>\n",
       "      <td>...</td>\n",
       "      <td>...</td>\n",
       "      <td>...</td>\n",
       "      <td>...</td>\n",
       "    </tr>\n",
       "    <tr>\n",
       "      <th>71</th>\n",
       "      <td>Jona</td>\n",
       "      <td>Hitta (feat. Juicy J)</td>\n",
       "      <td>59</td>\n",
       "      <td>170807</td>\n",
       "      <td>0.01700</td>\n",
       "      <td>0.732</td>\n",
       "      <td>0.956</td>\n",
       "      <td>0.000007</td>\n",
       "      <td>0.3570</td>\n",
       "      <td>-2.775</td>\n",
       "      <td>0.0708</td>\n",
       "      <td>145.103</td>\n",
       "      <td>0.375</td>\n",
       "    </tr>\n",
       "    <tr>\n",
       "      <th>194</th>\n",
       "      <td>Morissette</td>\n",
       "      <td>Nothing's Gonna Stop Us Now - From \"Crazy Beau...</td>\n",
       "      <td>60</td>\n",
       "      <td>258014</td>\n",
       "      <td>0.21600</td>\n",
       "      <td>0.528</td>\n",
       "      <td>0.603</td>\n",
       "      <td>0.000000</td>\n",
       "      <td>0.3040</td>\n",
       "      <td>-5.883</td>\n",
       "      <td>0.0296</td>\n",
       "      <td>185.998</td>\n",
       "      <td>0.482</td>\n",
       "    </tr>\n",
       "    <tr>\n",
       "      <th>167</th>\n",
       "      <td>Jona</td>\n",
       "      <td>Keep It Mello (feat. Omar LinX)</td>\n",
       "      <td>60</td>\n",
       "      <td>243380</td>\n",
       "      <td>0.00134</td>\n",
       "      <td>0.686</td>\n",
       "      <td>0.888</td>\n",
       "      <td>0.000689</td>\n",
       "      <td>0.0736</td>\n",
       "      <td>-3.348</td>\n",
       "      <td>0.0857</td>\n",
       "      <td>142.015</td>\n",
       "      <td>0.108</td>\n",
       "    </tr>\n",
       "    <tr>\n",
       "      <th>147</th>\n",
       "      <td>Jona</td>\n",
       "      <td>Rescue Me</td>\n",
       "      <td>61</td>\n",
       "      <td>237203</td>\n",
       "      <td>0.00803</td>\n",
       "      <td>0.433</td>\n",
       "      <td>0.905</td>\n",
       "      <td>0.000000</td>\n",
       "      <td>0.3370</td>\n",
       "      <td>-2.171</td>\n",
       "      <td>0.1010</td>\n",
       "      <td>148.149</td>\n",
       "      <td>0.375</td>\n",
       "    </tr>\n",
       "    <tr>\n",
       "      <th>75</th>\n",
       "      <td>Jona</td>\n",
       "      <td>Shockwave</td>\n",
       "      <td>69</td>\n",
       "      <td>181283</td>\n",
       "      <td>0.02310</td>\n",
       "      <td>0.577</td>\n",
       "      <td>0.875</td>\n",
       "      <td>0.000005</td>\n",
       "      <td>0.1110</td>\n",
       "      <td>-2.897</td>\n",
       "      <td>0.0681</td>\n",
       "      <td>164.009</td>\n",
       "      <td>0.411</td>\n",
       "    </tr>\n",
       "  </tbody>\n",
       "</table>\n",
       "<p>436 rows × 13 columns</p>\n",
       "</div>"
      ],
      "text/plain": [
       "             artist                                               name  \\\n",
       "118            Jona                                       Back in Time   \n",
       "354  Sarah Geronimo                                            Silence   \n",
       "119            Jona                                              Hitta   \n",
       "357  Sarah Geronimo                                            Just Me   \n",
       "399  Sarah Geronimo                               Peace Is All We Know   \n",
       "..              ...                                                ...   \n",
       "71             Jona                              Hitta (feat. Juicy J)   \n",
       "194      Morissette  Nothing's Gonna Stop Us Now - From \"Crazy Beau...   \n",
       "167            Jona                    Keep It Mello (feat. Omar LinX)   \n",
       "147            Jona                                          Rescue Me   \n",
       "75             Jona                                          Shockwave   \n",
       "\n",
       "     popularity  duration_ms  acousticness  danceability  energy  \\\n",
       "118           0       160877       0.01080         0.783   0.824   \n",
       "354           0       181600       0.17900         0.823   0.641   \n",
       "119           0       170807       0.00794         0.746   0.938   \n",
       "357           0       220920       0.22000         0.558   0.683   \n",
       "399           0       196306       0.46100         0.698   0.815   \n",
       "..          ...          ...           ...           ...     ...   \n",
       "71           59       170807       0.01700         0.732   0.956   \n",
       "194          60       258014       0.21600         0.528   0.603   \n",
       "167          60       243380       0.00134         0.686   0.888   \n",
       "147          61       237203       0.00803         0.433   0.905   \n",
       "75           69       181283       0.02310         0.577   0.875   \n",
       "\n",
       "     instrumentalness  liveness  loudness  speechiness    tempo  valence  \n",
       "118          0.000795    0.0748    -4.558       0.0598  139.998    0.413  \n",
       "354          0.000015    0.0988    -6.385       0.0417  109.972    0.400  \n",
       "119          0.000016    0.3540    -2.822       0.0658  145.012    0.238  \n",
       "357          0.000000    0.4390    -6.665       0.2930  134.645    0.691  \n",
       "399          0.000000    0.0796    -4.641       0.0308   92.987    0.781  \n",
       "..                ...       ...       ...          ...      ...      ...  \n",
       "71           0.000007    0.3570    -2.775       0.0708  145.103    0.375  \n",
       "194          0.000000    0.3040    -5.883       0.0296  185.998    0.482  \n",
       "167          0.000689    0.0736    -3.348       0.0857  142.015    0.108  \n",
       "147          0.000000    0.3370    -2.171       0.1010  148.149    0.375  \n",
       "75           0.000005    0.1110    -2.897       0.0681  164.009    0.411  \n",
       "\n",
       "[436 rows x 13 columns]"
      ]
     },
     "execution_count": 7,
     "metadata": {},
     "output_type": "execute_result"
    }
   ],
   "source": [
    "df # теперь добавим бинарных столбцов и агрегируем несколько столбцов в один"
   ]
  },
  {
   "cell_type": "code",
   "execution_count": null,
   "metadata": {
    "colab": {
     "base_uri": "https://localhost:8080/"
    },
    "id": "lb2SWT8J0gHb",
    "outputId": "ea5a4335-043d-44b0-9333-ca5bcd778c73"
   },
   "outputs": [
    {
     "data": {
      "text/plain": [
       "0.411    10\n",
       "0.496     7\n",
       "0.423     6\n",
       "0.568     6\n",
       "0.556     6\n",
       "         ..\n",
       "0.281     1\n",
       "0.196     1\n",
       "0.455     1\n",
       "0.197     1\n",
       "0.482     1\n",
       "Name: valence, Length: 278, dtype: int64"
      ]
     },
     "execution_count": 8,
     "metadata": {},
     "output_type": "execute_result"
    }
   ],
   "source": [
    "df['valence'].value_counts() # valence - показывает настроение песни\n",
    "# предположим, что мы категоричны и считаем, что стакан всегда либо наполовину полон, либо наполовину пуст, иного не дано\n",
    "# сделаем новый бинарный столбец positive, который будет принимать значения 1, если песня позитивная, и 0, если песни негативная\n",
    "# порог разделения будет 0.5"
   ]
  },
  {
   "cell_type": "code",
   "execution_count": null,
   "metadata": {
    "id": "HsGy_1Db1YQe"
   },
   "outputs": [],
   "source": [
    "def mood_binary(x):\n",
    "    if x >= 0.5:\n",
    "        return 1\n",
    "    else:\n",
    "        return 0"
   ]
  },
  {
   "cell_type": "code",
   "execution_count": null,
   "metadata": {
    "colab": {
     "base_uri": "https://localhost:8080/"
    },
    "id": "qZ_dE9aM1oTS",
    "outputId": "f6555cb9-d205-4afa-c5e1-7e94e481ebf9"
   },
   "outputs": [
    {
     "data": {
      "text/plain": [
       "0    342\n",
       "1     94\n",
       "Name: positive, dtype: int64"
      ]
     },
     "execution_count": 10,
     "metadata": {},
     "output_type": "execute_result"
    }
   ],
   "source": [
    "df['positive'] = df['valence'].apply(mood_binary)\n",
    "df['positive'].value_counts() # лишних значений нет, всё хорошо работает"
   ]
  },
  {
   "cell_type": "code",
   "execution_count": null,
   "metadata": {
    "colab": {
     "base_uri": "https://localhost:8080/",
     "height": 730
    },
    "id": "jwwwOdhV3wVk",
    "outputId": "319f32bd-5284-42b4-db8a-ef88e90b1efe"
   },
   "outputs": [
    {
     "data": {
      "text/html": [
       "<div>\n",
       "<style scoped>\n",
       "    .dataframe tbody tr th:only-of-type {\n",
       "        vertical-align: middle;\n",
       "    }\n",
       "\n",
       "    .dataframe tbody tr th {\n",
       "        vertical-align: top;\n",
       "    }\n",
       "\n",
       "    .dataframe thead th {\n",
       "        text-align: right;\n",
       "    }\n",
       "</style>\n",
       "<table border=\"1\" class=\"dataframe\">\n",
       "  <thead>\n",
       "    <tr style=\"text-align: right;\">\n",
       "      <th></th>\n",
       "      <th>artist</th>\n",
       "      <th>name</th>\n",
       "      <th>popularity</th>\n",
       "      <th>duration_ms</th>\n",
       "      <th>acousticness</th>\n",
       "      <th>danceability</th>\n",
       "      <th>energy</th>\n",
       "      <th>instrumentalness</th>\n",
       "      <th>liveness</th>\n",
       "      <th>loudness</th>\n",
       "      <th>speechiness</th>\n",
       "      <th>tempo</th>\n",
       "      <th>positive</th>\n",
       "    </tr>\n",
       "  </thead>\n",
       "  <tbody>\n",
       "    <tr>\n",
       "      <th>118</th>\n",
       "      <td>Jona</td>\n",
       "      <td>Back in Time</td>\n",
       "      <td>0</td>\n",
       "      <td>160877</td>\n",
       "      <td>0.01080</td>\n",
       "      <td>0.783</td>\n",
       "      <td>0.824</td>\n",
       "      <td>0.000795</td>\n",
       "      <td>0.0748</td>\n",
       "      <td>-4.558</td>\n",
       "      <td>0.0598</td>\n",
       "      <td>139.998</td>\n",
       "      <td>0</td>\n",
       "    </tr>\n",
       "    <tr>\n",
       "      <th>354</th>\n",
       "      <td>Sarah Geronimo</td>\n",
       "      <td>Silence</td>\n",
       "      <td>0</td>\n",
       "      <td>181600</td>\n",
       "      <td>0.17900</td>\n",
       "      <td>0.823</td>\n",
       "      <td>0.641</td>\n",
       "      <td>0.000015</td>\n",
       "      <td>0.0988</td>\n",
       "      <td>-6.385</td>\n",
       "      <td>0.0417</td>\n",
       "      <td>109.972</td>\n",
       "      <td>0</td>\n",
       "    </tr>\n",
       "    <tr>\n",
       "      <th>119</th>\n",
       "      <td>Jona</td>\n",
       "      <td>Hitta</td>\n",
       "      <td>0</td>\n",
       "      <td>170807</td>\n",
       "      <td>0.00794</td>\n",
       "      <td>0.746</td>\n",
       "      <td>0.938</td>\n",
       "      <td>0.000016</td>\n",
       "      <td>0.3540</td>\n",
       "      <td>-2.822</td>\n",
       "      <td>0.0658</td>\n",
       "      <td>145.012</td>\n",
       "      <td>0</td>\n",
       "    </tr>\n",
       "    <tr>\n",
       "      <th>357</th>\n",
       "      <td>Sarah Geronimo</td>\n",
       "      <td>Just Me</td>\n",
       "      <td>0</td>\n",
       "      <td>220920</td>\n",
       "      <td>0.22000</td>\n",
       "      <td>0.558</td>\n",
       "      <td>0.683</td>\n",
       "      <td>0.000000</td>\n",
       "      <td>0.4390</td>\n",
       "      <td>-6.665</td>\n",
       "      <td>0.2930</td>\n",
       "      <td>134.645</td>\n",
       "      <td>1</td>\n",
       "    </tr>\n",
       "    <tr>\n",
       "      <th>399</th>\n",
       "      <td>Sarah Geronimo</td>\n",
       "      <td>Peace Is All We Know</td>\n",
       "      <td>0</td>\n",
       "      <td>196306</td>\n",
       "      <td>0.46100</td>\n",
       "      <td>0.698</td>\n",
       "      <td>0.815</td>\n",
       "      <td>0.000000</td>\n",
       "      <td>0.0796</td>\n",
       "      <td>-4.641</td>\n",
       "      <td>0.0308</td>\n",
       "      <td>92.987</td>\n",
       "      <td>1</td>\n",
       "    </tr>\n",
       "    <tr>\n",
       "      <th>...</th>\n",
       "      <td>...</td>\n",
       "      <td>...</td>\n",
       "      <td>...</td>\n",
       "      <td>...</td>\n",
       "      <td>...</td>\n",
       "      <td>...</td>\n",
       "      <td>...</td>\n",
       "      <td>...</td>\n",
       "      <td>...</td>\n",
       "      <td>...</td>\n",
       "      <td>...</td>\n",
       "      <td>...</td>\n",
       "      <td>...</td>\n",
       "    </tr>\n",
       "    <tr>\n",
       "      <th>71</th>\n",
       "      <td>Jona</td>\n",
       "      <td>Hitta (feat. Juicy J)</td>\n",
       "      <td>59</td>\n",
       "      <td>170807</td>\n",
       "      <td>0.01700</td>\n",
       "      <td>0.732</td>\n",
       "      <td>0.956</td>\n",
       "      <td>0.000007</td>\n",
       "      <td>0.3570</td>\n",
       "      <td>-2.775</td>\n",
       "      <td>0.0708</td>\n",
       "      <td>145.103</td>\n",
       "      <td>0</td>\n",
       "    </tr>\n",
       "    <tr>\n",
       "      <th>194</th>\n",
       "      <td>Morissette</td>\n",
       "      <td>Nothing's Gonna Stop Us Now - From \"Crazy Beau...</td>\n",
       "      <td>60</td>\n",
       "      <td>258014</td>\n",
       "      <td>0.21600</td>\n",
       "      <td>0.528</td>\n",
       "      <td>0.603</td>\n",
       "      <td>0.000000</td>\n",
       "      <td>0.3040</td>\n",
       "      <td>-5.883</td>\n",
       "      <td>0.0296</td>\n",
       "      <td>185.998</td>\n",
       "      <td>0</td>\n",
       "    </tr>\n",
       "    <tr>\n",
       "      <th>167</th>\n",
       "      <td>Jona</td>\n",
       "      <td>Keep It Mello (feat. Omar LinX)</td>\n",
       "      <td>60</td>\n",
       "      <td>243380</td>\n",
       "      <td>0.00134</td>\n",
       "      <td>0.686</td>\n",
       "      <td>0.888</td>\n",
       "      <td>0.000689</td>\n",
       "      <td>0.0736</td>\n",
       "      <td>-3.348</td>\n",
       "      <td>0.0857</td>\n",
       "      <td>142.015</td>\n",
       "      <td>0</td>\n",
       "    </tr>\n",
       "    <tr>\n",
       "      <th>147</th>\n",
       "      <td>Jona</td>\n",
       "      <td>Rescue Me</td>\n",
       "      <td>61</td>\n",
       "      <td>237203</td>\n",
       "      <td>0.00803</td>\n",
       "      <td>0.433</td>\n",
       "      <td>0.905</td>\n",
       "      <td>0.000000</td>\n",
       "      <td>0.3370</td>\n",
       "      <td>-2.171</td>\n",
       "      <td>0.1010</td>\n",
       "      <td>148.149</td>\n",
       "      <td>0</td>\n",
       "    </tr>\n",
       "    <tr>\n",
       "      <th>75</th>\n",
       "      <td>Jona</td>\n",
       "      <td>Shockwave</td>\n",
       "      <td>69</td>\n",
       "      <td>181283</td>\n",
       "      <td>0.02310</td>\n",
       "      <td>0.577</td>\n",
       "      <td>0.875</td>\n",
       "      <td>0.000005</td>\n",
       "      <td>0.1110</td>\n",
       "      <td>-2.897</td>\n",
       "      <td>0.0681</td>\n",
       "      <td>164.009</td>\n",
       "      <td>0</td>\n",
       "    </tr>\n",
       "  </tbody>\n",
       "</table>\n",
       "<p>436 rows × 13 columns</p>\n",
       "</div>"
      ],
      "text/plain": [
       "             artist                                               name  \\\n",
       "118            Jona                                       Back in Time   \n",
       "354  Sarah Geronimo                                            Silence   \n",
       "119            Jona                                              Hitta   \n",
       "357  Sarah Geronimo                                            Just Me   \n",
       "399  Sarah Geronimo                               Peace Is All We Know   \n",
       "..              ...                                                ...   \n",
       "71             Jona                              Hitta (feat. Juicy J)   \n",
       "194      Morissette  Nothing's Gonna Stop Us Now - From \"Crazy Beau...   \n",
       "167            Jona                    Keep It Mello (feat. Omar LinX)   \n",
       "147            Jona                                          Rescue Me   \n",
       "75             Jona                                          Shockwave   \n",
       "\n",
       "     popularity  duration_ms  acousticness  danceability  energy  \\\n",
       "118           0       160877       0.01080         0.783   0.824   \n",
       "354           0       181600       0.17900         0.823   0.641   \n",
       "119           0       170807       0.00794         0.746   0.938   \n",
       "357           0       220920       0.22000         0.558   0.683   \n",
       "399           0       196306       0.46100         0.698   0.815   \n",
       "..          ...          ...           ...           ...     ...   \n",
       "71           59       170807       0.01700         0.732   0.956   \n",
       "194          60       258014       0.21600         0.528   0.603   \n",
       "167          60       243380       0.00134         0.686   0.888   \n",
       "147          61       237203       0.00803         0.433   0.905   \n",
       "75           69       181283       0.02310         0.577   0.875   \n",
       "\n",
       "     instrumentalness  liveness  loudness  speechiness    tempo  positive  \n",
       "118          0.000795    0.0748    -4.558       0.0598  139.998         0  \n",
       "354          0.000015    0.0988    -6.385       0.0417  109.972         0  \n",
       "119          0.000016    0.3540    -2.822       0.0658  145.012         0  \n",
       "357          0.000000    0.4390    -6.665       0.2930  134.645         1  \n",
       "399          0.000000    0.0796    -4.641       0.0308   92.987         1  \n",
       "..                ...       ...       ...          ...      ...       ...  \n",
       "71           0.000007    0.3570    -2.775       0.0708  145.103         0  \n",
       "194          0.000000    0.3040    -5.883       0.0296  185.998         0  \n",
       "167          0.000689    0.0736    -3.348       0.0857  142.015         0  \n",
       "147          0.000000    0.3370    -2.171       0.1010  148.149         0  \n",
       "75           0.000005    0.1110    -2.897       0.0681  164.009         0  \n",
       "\n",
       "[436 rows x 13 columns]"
      ]
     },
     "execution_count": 11,
     "metadata": {},
     "output_type": "execute_result"
    }
   ],
   "source": [
    "df = df.drop(['valence'], axis=1)\n",
    "df # удаляем valence за ненадобностью"
   ]
  },
  {
   "cell_type": "code",
   "execution_count": null,
   "metadata": {
    "id": "7b80h8BX4ALI"
   },
   "outputs": [],
   "source": [
    "# кажется, что показатели danceability и energy - очень похожи. они влияют на общий эмоциональный эффект от прослушивания песни\n",
    "# ведь не важно какого жанра песня - если она достаточно энергичная, то вам скорее всего захочется танцевать\n",
    "# поэтому я считаю оправданным создать ещё один бинарный столбец drive, который бы показывал, является ли песня энергичной"
   ]
  },
  {
   "cell_type": "code",
   "execution_count": null,
   "metadata": {
    "colab": {
     "base_uri": "https://localhost:8080/"
    },
    "id": "mboIapvW5pVz",
    "outputId": "457f0598-856a-4334-af35-3ebab4afbb89"
   },
   "outputs": [
    {
     "data": {
      "text/plain": [
       "0.622    13\n",
       "0.577     7\n",
       "0.783     6\n",
       "0.514     6\n",
       "0.726     6\n",
       "         ..\n",
       "0.513     1\n",
       "0.448     1\n",
       "0.426     1\n",
       "0.383     1\n",
       "0.598     1\n",
       "Name: danceability, Length: 250, dtype: int64"
      ]
     },
     "execution_count": 12,
     "metadata": {},
     "output_type": "execute_result"
    }
   ],
   "source": [
    "df['danceability'].value_counts()"
   ]
  },
  {
   "cell_type": "code",
   "execution_count": null,
   "metadata": {
    "colab": {
     "base_uri": "https://localhost:8080/",
     "height": 835
    },
    "id": "83umCWy64_Cr",
    "outputId": "f53e1730-d0f4-4725-c67b-c19fb9811690"
   },
   "outputs": [
    {
     "data": {
      "text/html": [
       "<div>\n",
       "<style scoped>\n",
       "    .dataframe tbody tr th:only-of-type {\n",
       "        vertical-align: middle;\n",
       "    }\n",
       "\n",
       "    .dataframe tbody tr th {\n",
       "        vertical-align: top;\n",
       "    }\n",
       "\n",
       "    .dataframe thead th {\n",
       "        text-align: right;\n",
       "    }\n",
       "</style>\n",
       "<table border=\"1\" class=\"dataframe\">\n",
       "  <thead>\n",
       "    <tr style=\"text-align: right;\">\n",
       "      <th></th>\n",
       "      <th>artist</th>\n",
       "      <th>name</th>\n",
       "      <th>popularity</th>\n",
       "      <th>duration_ms</th>\n",
       "      <th>acousticness</th>\n",
       "      <th>danceability</th>\n",
       "      <th>energy</th>\n",
       "      <th>instrumentalness</th>\n",
       "      <th>liveness</th>\n",
       "      <th>loudness</th>\n",
       "      <th>speechiness</th>\n",
       "      <th>tempo</th>\n",
       "      <th>positive</th>\n",
       "    </tr>\n",
       "  </thead>\n",
       "  <tbody>\n",
       "    <tr>\n",
       "      <th>258</th>\n",
       "      <td>Sarah Geronimo</td>\n",
       "      <td>Kailan</td>\n",
       "      <td>7</td>\n",
       "      <td>302613</td>\n",
       "      <td>0.910000</td>\n",
       "      <td>0.160</td>\n",
       "      <td>0.294</td>\n",
       "      <td>0.025000</td>\n",
       "      <td>0.2600</td>\n",
       "      <td>-11.926</td>\n",
       "      <td>0.0332</td>\n",
       "      <td>77.610</td>\n",
       "      <td>0</td>\n",
       "    </tr>\n",
       "    <tr>\n",
       "      <th>262</th>\n",
       "      <td>Sarah Geronimo</td>\n",
       "      <td>Hanggang Sa Dulo Ng Walang Hanggan</td>\n",
       "      <td>6</td>\n",
       "      <td>236533</td>\n",
       "      <td>0.886000</td>\n",
       "      <td>0.164</td>\n",
       "      <td>0.285</td>\n",
       "      <td>0.000742</td>\n",
       "      <td>0.0637</td>\n",
       "      <td>-9.372</td>\n",
       "      <td>0.0342</td>\n",
       "      <td>78.761</td>\n",
       "      <td>0</td>\n",
       "    </tr>\n",
       "    <tr>\n",
       "      <th>315</th>\n",
       "      <td>Sarah Geronimo</td>\n",
       "      <td>Ngayon, Bukas At Kailanman - Theme Song From \"...</td>\n",
       "      <td>18</td>\n",
       "      <td>266573</td>\n",
       "      <td>0.897000</td>\n",
       "      <td>0.178</td>\n",
       "      <td>0.322</td>\n",
       "      <td>0.000015</td>\n",
       "      <td>0.0960</td>\n",
       "      <td>-6.852</td>\n",
       "      <td>0.0318</td>\n",
       "      <td>75.464</td>\n",
       "      <td>0</td>\n",
       "    </tr>\n",
       "    <tr>\n",
       "      <th>57</th>\n",
       "      <td>Angeline Quinto</td>\n",
       "      <td>Mahiwaga</td>\n",
       "      <td>23</td>\n",
       "      <td>181423</td>\n",
       "      <td>0.953000</td>\n",
       "      <td>0.201</td>\n",
       "      <td>0.208</td>\n",
       "      <td>0.000973</td>\n",
       "      <td>0.1210</td>\n",
       "      <td>-12.831</td>\n",
       "      <td>0.0413</td>\n",
       "      <td>77.982</td>\n",
       "      <td>0</td>\n",
       "    </tr>\n",
       "    <tr>\n",
       "      <th>199</th>\n",
       "      <td>Morissette</td>\n",
       "      <td>Kapag Ako Ay Nagmahal - Minus One</td>\n",
       "      <td>25</td>\n",
       "      <td>313812</td>\n",
       "      <td>0.136000</td>\n",
       "      <td>0.215</td>\n",
       "      <td>0.242</td>\n",
       "      <td>0.772000</td>\n",
       "      <td>0.1560</td>\n",
       "      <td>-11.694</td>\n",
       "      <td>0.0303</td>\n",
       "      <td>145.302</td>\n",
       "      <td>0</td>\n",
       "    </tr>\n",
       "    <tr>\n",
       "      <th>...</th>\n",
       "      <td>...</td>\n",
       "      <td>...</td>\n",
       "      <td>...</td>\n",
       "      <td>...</td>\n",
       "      <td>...</td>\n",
       "      <td>...</td>\n",
       "      <td>...</td>\n",
       "      <td>...</td>\n",
       "      <td>...</td>\n",
       "      <td>...</td>\n",
       "      <td>...</td>\n",
       "      <td>...</td>\n",
       "      <td>...</td>\n",
       "    </tr>\n",
       "    <tr>\n",
       "      <th>93</th>\n",
       "      <td>Jona</td>\n",
       "      <td>Bad Bitches</td>\n",
       "      <td>24</td>\n",
       "      <td>152414</td>\n",
       "      <td>0.000330</td>\n",
       "      <td>0.819</td>\n",
       "      <td>0.814</td>\n",
       "      <td>0.328000</td>\n",
       "      <td>0.0644</td>\n",
       "      <td>-3.440</td>\n",
       "      <td>0.0382</td>\n",
       "      <td>125.965</td>\n",
       "      <td>0</td>\n",
       "    </tr>\n",
       "    <tr>\n",
       "      <th>354</th>\n",
       "      <td>Sarah Geronimo</td>\n",
       "      <td>Silence</td>\n",
       "      <td>0</td>\n",
       "      <td>181600</td>\n",
       "      <td>0.179000</td>\n",
       "      <td>0.823</td>\n",
       "      <td>0.641</td>\n",
       "      <td>0.000015</td>\n",
       "      <td>0.0988</td>\n",
       "      <td>-6.385</td>\n",
       "      <td>0.0417</td>\n",
       "      <td>109.972</td>\n",
       "      <td>0</td>\n",
       "    </tr>\n",
       "    <tr>\n",
       "      <th>424</th>\n",
       "      <td>Sarah Geronimo</td>\n",
       "      <td>Silence</td>\n",
       "      <td>5</td>\n",
       "      <td>181613</td>\n",
       "      <td>0.183000</td>\n",
       "      <td>0.829</td>\n",
       "      <td>0.637</td>\n",
       "      <td>0.000017</td>\n",
       "      <td>0.1010</td>\n",
       "      <td>-6.384</td>\n",
       "      <td>0.0408</td>\n",
       "      <td>109.981</td>\n",
       "      <td>0</td>\n",
       "    </tr>\n",
       "    <tr>\n",
       "      <th>338</th>\n",
       "      <td>Sarah Geronimo</td>\n",
       "      <td>Silence</td>\n",
       "      <td>0</td>\n",
       "      <td>181613</td>\n",
       "      <td>0.183000</td>\n",
       "      <td>0.829</td>\n",
       "      <td>0.637</td>\n",
       "      <td>0.000017</td>\n",
       "      <td>0.1010</td>\n",
       "      <td>-6.384</td>\n",
       "      <td>0.0408</td>\n",
       "      <td>109.981</td>\n",
       "      <td>0</td>\n",
       "    </tr>\n",
       "    <tr>\n",
       "      <th>141</th>\n",
       "      <td>Jona</td>\n",
       "      <td>Set Me Free</td>\n",
       "      <td>38</td>\n",
       "      <td>182857</td>\n",
       "      <td>0.000437</td>\n",
       "      <td>0.918</td>\n",
       "      <td>0.723</td>\n",
       "      <td>0.141000</td>\n",
       "      <td>0.1240</td>\n",
       "      <td>-4.099</td>\n",
       "      <td>0.0653</td>\n",
       "      <td>126.046</td>\n",
       "      <td>0</td>\n",
       "    </tr>\n",
       "  </tbody>\n",
       "</table>\n",
       "<p>436 rows × 13 columns</p>\n",
       "</div>"
      ],
      "text/plain": [
       "              artist                                               name  \\\n",
       "258   Sarah Geronimo                                             Kailan   \n",
       "262   Sarah Geronimo                 Hanggang Sa Dulo Ng Walang Hanggan   \n",
       "315   Sarah Geronimo  Ngayon, Bukas At Kailanman - Theme Song From \"...   \n",
       "57   Angeline Quinto                                           Mahiwaga   \n",
       "199       Morissette                  Kapag Ako Ay Nagmahal - Minus One   \n",
       "..               ...                                                ...   \n",
       "93              Jona                                        Bad Bitches   \n",
       "354   Sarah Geronimo                                            Silence   \n",
       "424   Sarah Geronimo                                            Silence   \n",
       "338   Sarah Geronimo                                            Silence   \n",
       "141             Jona                                        Set Me Free   \n",
       "\n",
       "     popularity  duration_ms  acousticness  danceability  energy  \\\n",
       "258           7       302613      0.910000         0.160   0.294   \n",
       "262           6       236533      0.886000         0.164   0.285   \n",
       "315          18       266573      0.897000         0.178   0.322   \n",
       "57           23       181423      0.953000         0.201   0.208   \n",
       "199          25       313812      0.136000         0.215   0.242   \n",
       "..          ...          ...           ...           ...     ...   \n",
       "93           24       152414      0.000330         0.819   0.814   \n",
       "354           0       181600      0.179000         0.823   0.641   \n",
       "424           5       181613      0.183000         0.829   0.637   \n",
       "338           0       181613      0.183000         0.829   0.637   \n",
       "141          38       182857      0.000437         0.918   0.723   \n",
       "\n",
       "     instrumentalness  liveness  loudness  speechiness    tempo  positive  \n",
       "258          0.025000    0.2600   -11.926       0.0332   77.610         0  \n",
       "262          0.000742    0.0637    -9.372       0.0342   78.761         0  \n",
       "315          0.000015    0.0960    -6.852       0.0318   75.464         0  \n",
       "57           0.000973    0.1210   -12.831       0.0413   77.982         0  \n",
       "199          0.772000    0.1560   -11.694       0.0303  145.302         0  \n",
       "..                ...       ...       ...          ...      ...       ...  \n",
       "93           0.328000    0.0644    -3.440       0.0382  125.965         0  \n",
       "354          0.000015    0.0988    -6.385       0.0417  109.972         0  \n",
       "424          0.000017    0.1010    -6.384       0.0408  109.981         0  \n",
       "338          0.000017    0.1010    -6.384       0.0408  109.981         0  \n",
       "141          0.141000    0.1240    -4.099       0.0653  126.046         0  \n",
       "\n",
       "[436 rows x 13 columns]"
      ]
     },
     "execution_count": 13,
     "metadata": {},
     "output_type": "execute_result"
    }
   ],
   "source": [
    "df.sort_values('danceability') # как мы видим, есть значения и danceability и energy ниже порога 0.5, поэтому можно смело установить границу по нему"
   ]
  },
  {
   "cell_type": "code",
   "execution_count": null,
   "metadata": {
    "id": "iO8qW2dr6qdg"
   },
   "outputs": [],
   "source": [
    "drive_1 = df[(df[\"danceability\"] >= 0.5) & (df[\"energy\"] >= 0.5)]"
   ]
  },
  {
   "cell_type": "code",
   "execution_count": null,
   "metadata": {
    "id": "iOyb2ihWLTlV",
    "outputId": "e9c87eff-8871-4d5e-c0e9-ac5755d1699b"
   },
   "outputs": [
    {
     "name": "stderr",
     "output_type": "stream",
     "text": [
      "C:\\Users\\EREMIS~1\\AppData\\Local\\Temp/ipykernel_18388/3933391718.py:1: SettingWithCopyWarning: \n",
      "A value is trying to be set on a copy of a slice from a DataFrame.\n",
      "Try using .loc[row_indexer,col_indexer] = value instead\n",
      "\n",
      "See the caveats in the documentation: https://pandas.pydata.org/pandas-docs/stable/user_guide/indexing.html#returning-a-view-versus-a-copy\n",
      "  drive_1['drive'] = 1\n"
     ]
    },
    {
     "data": {
      "text/html": [
       "<div>\n",
       "<style scoped>\n",
       "    .dataframe tbody tr th:only-of-type {\n",
       "        vertical-align: middle;\n",
       "    }\n",
       "\n",
       "    .dataframe tbody tr th {\n",
       "        vertical-align: top;\n",
       "    }\n",
       "\n",
       "    .dataframe thead th {\n",
       "        text-align: right;\n",
       "    }\n",
       "</style>\n",
       "<table border=\"1\" class=\"dataframe\">\n",
       "  <thead>\n",
       "    <tr style=\"text-align: right;\">\n",
       "      <th></th>\n",
       "      <th>artist</th>\n",
       "      <th>name</th>\n",
       "      <th>popularity</th>\n",
       "      <th>duration_ms</th>\n",
       "      <th>acousticness</th>\n",
       "      <th>danceability</th>\n",
       "      <th>energy</th>\n",
       "      <th>instrumentalness</th>\n",
       "      <th>liveness</th>\n",
       "      <th>loudness</th>\n",
       "      <th>speechiness</th>\n",
       "      <th>tempo</th>\n",
       "      <th>positive</th>\n",
       "      <th>drive</th>\n",
       "    </tr>\n",
       "  </thead>\n",
       "  <tbody>\n",
       "    <tr>\n",
       "      <th>118</th>\n",
       "      <td>Jona</td>\n",
       "      <td>Back in Time</td>\n",
       "      <td>0</td>\n",
       "      <td>160877</td>\n",
       "      <td>0.01080</td>\n",
       "      <td>0.783</td>\n",
       "      <td>0.824</td>\n",
       "      <td>0.000795</td>\n",
       "      <td>0.0748</td>\n",
       "      <td>-4.558</td>\n",
       "      <td>0.0598</td>\n",
       "      <td>139.998</td>\n",
       "      <td>0</td>\n",
       "      <td>1</td>\n",
       "    </tr>\n",
       "    <tr>\n",
       "      <th>354</th>\n",
       "      <td>Sarah Geronimo</td>\n",
       "      <td>Silence</td>\n",
       "      <td>0</td>\n",
       "      <td>181600</td>\n",
       "      <td>0.17900</td>\n",
       "      <td>0.823</td>\n",
       "      <td>0.641</td>\n",
       "      <td>0.000015</td>\n",
       "      <td>0.0988</td>\n",
       "      <td>-6.385</td>\n",
       "      <td>0.0417</td>\n",
       "      <td>109.972</td>\n",
       "      <td>0</td>\n",
       "      <td>1</td>\n",
       "    </tr>\n",
       "    <tr>\n",
       "      <th>119</th>\n",
       "      <td>Jona</td>\n",
       "      <td>Hitta</td>\n",
       "      <td>0</td>\n",
       "      <td>170807</td>\n",
       "      <td>0.00794</td>\n",
       "      <td>0.746</td>\n",
       "      <td>0.938</td>\n",
       "      <td>0.000016</td>\n",
       "      <td>0.3540</td>\n",
       "      <td>-2.822</td>\n",
       "      <td>0.0658</td>\n",
       "      <td>145.012</td>\n",
       "      <td>0</td>\n",
       "      <td>1</td>\n",
       "    </tr>\n",
       "    <tr>\n",
       "      <th>357</th>\n",
       "      <td>Sarah Geronimo</td>\n",
       "      <td>Just Me</td>\n",
       "      <td>0</td>\n",
       "      <td>220920</td>\n",
       "      <td>0.22000</td>\n",
       "      <td>0.558</td>\n",
       "      <td>0.683</td>\n",
       "      <td>0.000000</td>\n",
       "      <td>0.4390</td>\n",
       "      <td>-6.665</td>\n",
       "      <td>0.2930</td>\n",
       "      <td>134.645</td>\n",
       "      <td>1</td>\n",
       "      <td>1</td>\n",
       "    </tr>\n",
       "    <tr>\n",
       "      <th>399</th>\n",
       "      <td>Sarah Geronimo</td>\n",
       "      <td>Peace Is All We Know</td>\n",
       "      <td>0</td>\n",
       "      <td>196306</td>\n",
       "      <td>0.46100</td>\n",
       "      <td>0.698</td>\n",
       "      <td>0.815</td>\n",
       "      <td>0.000000</td>\n",
       "      <td>0.0796</td>\n",
       "      <td>-4.641</td>\n",
       "      <td>0.0308</td>\n",
       "      <td>92.987</td>\n",
       "      <td>1</td>\n",
       "      <td>1</td>\n",
       "    </tr>\n",
       "    <tr>\n",
       "      <th>...</th>\n",
       "      <td>...</td>\n",
       "      <td>...</td>\n",
       "      <td>...</td>\n",
       "      <td>...</td>\n",
       "      <td>...</td>\n",
       "      <td>...</td>\n",
       "      <td>...</td>\n",
       "      <td>...</td>\n",
       "      <td>...</td>\n",
       "      <td>...</td>\n",
       "      <td>...</td>\n",
       "      <td>...</td>\n",
       "      <td>...</td>\n",
       "      <td>...</td>\n",
       "    </tr>\n",
       "    <tr>\n",
       "      <th>159</th>\n",
       "      <td>Jona</td>\n",
       "      <td>Summer</td>\n",
       "      <td>58</td>\n",
       "      <td>233239</td>\n",
       "      <td>0.00695</td>\n",
       "      <td>0.583</td>\n",
       "      <td>0.748</td>\n",
       "      <td>0.024100</td>\n",
       "      <td>0.2200</td>\n",
       "      <td>-4.798</td>\n",
       "      <td>0.0292</td>\n",
       "      <td>142.029</td>\n",
       "      <td>0</td>\n",
       "      <td>1</td>\n",
       "    </tr>\n",
       "    <tr>\n",
       "      <th>71</th>\n",
       "      <td>Jona</td>\n",
       "      <td>Hitta (feat. Juicy J)</td>\n",
       "      <td>59</td>\n",
       "      <td>170807</td>\n",
       "      <td>0.01700</td>\n",
       "      <td>0.732</td>\n",
       "      <td>0.956</td>\n",
       "      <td>0.000007</td>\n",
       "      <td>0.3570</td>\n",
       "      <td>-2.775</td>\n",
       "      <td>0.0708</td>\n",
       "      <td>145.103</td>\n",
       "      <td>0</td>\n",
       "      <td>1</td>\n",
       "    </tr>\n",
       "    <tr>\n",
       "      <th>194</th>\n",
       "      <td>Morissette</td>\n",
       "      <td>Nothing's Gonna Stop Us Now - From \"Crazy Beau...</td>\n",
       "      <td>60</td>\n",
       "      <td>258014</td>\n",
       "      <td>0.21600</td>\n",
       "      <td>0.528</td>\n",
       "      <td>0.603</td>\n",
       "      <td>0.000000</td>\n",
       "      <td>0.3040</td>\n",
       "      <td>-5.883</td>\n",
       "      <td>0.0296</td>\n",
       "      <td>185.998</td>\n",
       "      <td>0</td>\n",
       "      <td>1</td>\n",
       "    </tr>\n",
       "    <tr>\n",
       "      <th>167</th>\n",
       "      <td>Jona</td>\n",
       "      <td>Keep It Mello (feat. Omar LinX)</td>\n",
       "      <td>60</td>\n",
       "      <td>243380</td>\n",
       "      <td>0.00134</td>\n",
       "      <td>0.686</td>\n",
       "      <td>0.888</td>\n",
       "      <td>0.000689</td>\n",
       "      <td>0.0736</td>\n",
       "      <td>-3.348</td>\n",
       "      <td>0.0857</td>\n",
       "      <td>142.015</td>\n",
       "      <td>0</td>\n",
       "      <td>1</td>\n",
       "    </tr>\n",
       "    <tr>\n",
       "      <th>75</th>\n",
       "      <td>Jona</td>\n",
       "      <td>Shockwave</td>\n",
       "      <td>69</td>\n",
       "      <td>181283</td>\n",
       "      <td>0.02310</td>\n",
       "      <td>0.577</td>\n",
       "      <td>0.875</td>\n",
       "      <td>0.000005</td>\n",
       "      <td>0.1110</td>\n",
       "      <td>-2.897</td>\n",
       "      <td>0.0681</td>\n",
       "      <td>164.009</td>\n",
       "      <td>0</td>\n",
       "      <td>1</td>\n",
       "    </tr>\n",
       "  </tbody>\n",
       "</table>\n",
       "<p>219 rows × 14 columns</p>\n",
       "</div>"
      ],
      "text/plain": [
       "             artist                                               name  \\\n",
       "118            Jona                                       Back in Time   \n",
       "354  Sarah Geronimo                                            Silence   \n",
       "119            Jona                                              Hitta   \n",
       "357  Sarah Geronimo                                            Just Me   \n",
       "399  Sarah Geronimo                               Peace Is All We Know   \n",
       "..              ...                                                ...   \n",
       "159            Jona                                             Summer   \n",
       "71             Jona                              Hitta (feat. Juicy J)   \n",
       "194      Morissette  Nothing's Gonna Stop Us Now - From \"Crazy Beau...   \n",
       "167            Jona                    Keep It Mello (feat. Omar LinX)   \n",
       "75             Jona                                          Shockwave   \n",
       "\n",
       "     popularity  duration_ms  acousticness  danceability  energy  \\\n",
       "118           0       160877       0.01080         0.783   0.824   \n",
       "354           0       181600       0.17900         0.823   0.641   \n",
       "119           0       170807       0.00794         0.746   0.938   \n",
       "357           0       220920       0.22000         0.558   0.683   \n",
       "399           0       196306       0.46100         0.698   0.815   \n",
       "..          ...          ...           ...           ...     ...   \n",
       "159          58       233239       0.00695         0.583   0.748   \n",
       "71           59       170807       0.01700         0.732   0.956   \n",
       "194          60       258014       0.21600         0.528   0.603   \n",
       "167          60       243380       0.00134         0.686   0.888   \n",
       "75           69       181283       0.02310         0.577   0.875   \n",
       "\n",
       "     instrumentalness  liveness  loudness  speechiness    tempo  positive  \\\n",
       "118          0.000795    0.0748    -4.558       0.0598  139.998         0   \n",
       "354          0.000015    0.0988    -6.385       0.0417  109.972         0   \n",
       "119          0.000016    0.3540    -2.822       0.0658  145.012         0   \n",
       "357          0.000000    0.4390    -6.665       0.2930  134.645         1   \n",
       "399          0.000000    0.0796    -4.641       0.0308   92.987         1   \n",
       "..                ...       ...       ...          ...      ...       ...   \n",
       "159          0.024100    0.2200    -4.798       0.0292  142.029         0   \n",
       "71           0.000007    0.3570    -2.775       0.0708  145.103         0   \n",
       "194          0.000000    0.3040    -5.883       0.0296  185.998         0   \n",
       "167          0.000689    0.0736    -3.348       0.0857  142.015         0   \n",
       "75           0.000005    0.1110    -2.897       0.0681  164.009         0   \n",
       "\n",
       "     drive  \n",
       "118      1  \n",
       "354      1  \n",
       "119      1  \n",
       "357      1  \n",
       "399      1  \n",
       "..     ...  \n",
       "159      1  \n",
       "71       1  \n",
       "194      1  \n",
       "167      1  \n",
       "75       1  \n",
       "\n",
       "[219 rows x 14 columns]"
      ]
     },
     "execution_count": 15,
     "metadata": {},
     "output_type": "execute_result"
    }
   ],
   "source": [
    "drive_1['drive'] = 1\n",
    "drive_1"
   ]
  },
  {
   "cell_type": "code",
   "execution_count": null,
   "metadata": {
    "id": "MhB9gKBSLTlX"
   },
   "outputs": [],
   "source": [
    "drive_2 = df[(df[\"danceability\"] < 0.5) & (df[\"energy\"] < 0.5)]"
   ]
  },
  {
   "cell_type": "code",
   "execution_count": null,
   "metadata": {
    "id": "dMRe0wOELTlY",
    "outputId": "de99625d-dfc2-4e00-ae45-ba06bb2f36f3"
   },
   "outputs": [
    {
     "name": "stderr",
     "output_type": "stream",
     "text": [
      "C:\\Users\\EREMIS~1\\AppData\\Local\\Temp/ipykernel_18388/3937143384.py:1: SettingWithCopyWarning: \n",
      "A value is trying to be set on a copy of a slice from a DataFrame.\n",
      "Try using .loc[row_indexer,col_indexer] = value instead\n",
      "\n",
      "See the caveats in the documentation: https://pandas.pydata.org/pandas-docs/stable/user_guide/indexing.html#returning-a-view-versus-a-copy\n",
      "  drive_2['drive'] = 0\n"
     ]
    }
   ],
   "source": [
    "drive_2['drive'] = 0"
   ]
  },
  {
   "cell_type": "code",
   "execution_count": null,
   "metadata": {
    "id": "Wch5I3pcLTlY",
    "outputId": "f1def20f-73db-48e4-9575-48838b45efb0"
   },
   "outputs": [
    {
     "data": {
      "text/html": [
       "<div>\n",
       "<style scoped>\n",
       "    .dataframe tbody tr th:only-of-type {\n",
       "        vertical-align: middle;\n",
       "    }\n",
       "\n",
       "    .dataframe tbody tr th {\n",
       "        vertical-align: top;\n",
       "    }\n",
       "\n",
       "    .dataframe thead th {\n",
       "        text-align: right;\n",
       "    }\n",
       "</style>\n",
       "<table border=\"1\" class=\"dataframe\">\n",
       "  <thead>\n",
       "    <tr style=\"text-align: right;\">\n",
       "      <th></th>\n",
       "      <th>artist</th>\n",
       "      <th>name</th>\n",
       "      <th>popularity</th>\n",
       "      <th>duration_ms</th>\n",
       "      <th>acousticness</th>\n",
       "      <th>danceability</th>\n",
       "      <th>energy</th>\n",
       "      <th>instrumentalness</th>\n",
       "      <th>liveness</th>\n",
       "      <th>loudness</th>\n",
       "      <th>speechiness</th>\n",
       "      <th>tempo</th>\n",
       "      <th>positive</th>\n",
       "      <th>drive</th>\n",
       "    </tr>\n",
       "  </thead>\n",
       "  <tbody>\n",
       "    <tr>\n",
       "      <th>337</th>\n",
       "      <td>Sarah Geronimo</td>\n",
       "      <td>Where Only Angels Fly</td>\n",
       "      <td>0</td>\n",
       "      <td>239880</td>\n",
       "      <td>0.0563</td>\n",
       "      <td>0.466</td>\n",
       "      <td>0.473</td>\n",
       "      <td>0.000000</td>\n",
       "      <td>0.0898</td>\n",
       "      <td>-6.997</td>\n",
       "      <td>0.0281</td>\n",
       "      <td>127.847</td>\n",
       "      <td>0</td>\n",
       "      <td>0</td>\n",
       "    </tr>\n",
       "    <tr>\n",
       "      <th>353</th>\n",
       "      <td>Sarah Geronimo</td>\n",
       "      <td>Where Only Angels Fly</td>\n",
       "      <td>1</td>\n",
       "      <td>239866</td>\n",
       "      <td>0.0544</td>\n",
       "      <td>0.470</td>\n",
       "      <td>0.471</td>\n",
       "      <td>0.000000</td>\n",
       "      <td>0.1000</td>\n",
       "      <td>-6.980</td>\n",
       "      <td>0.0283</td>\n",
       "      <td>127.898</td>\n",
       "      <td>0</td>\n",
       "      <td>0</td>\n",
       "    </tr>\n",
       "    <tr>\n",
       "      <th>61</th>\n",
       "      <td>Angeline Quinto</td>\n",
       "      <td>Wag Mo Akong Iwan Mag Isa - Minus One</td>\n",
       "      <td>4</td>\n",
       "      <td>270135</td>\n",
       "      <td>0.3820</td>\n",
       "      <td>0.358</td>\n",
       "      <td>0.121</td>\n",
       "      <td>0.262000</td>\n",
       "      <td>0.1500</td>\n",
       "      <td>-14.927</td>\n",
       "      <td>0.0316</td>\n",
       "      <td>135.657</td>\n",
       "      <td>0</td>\n",
       "      <td>0</td>\n",
       "    </tr>\n",
       "    <tr>\n",
       "      <th>43</th>\n",
       "      <td>Angeline Quinto</td>\n",
       "      <td>Babalikang Muli - Minus One</td>\n",
       "      <td>5</td>\n",
       "      <td>242146</td>\n",
       "      <td>0.7480</td>\n",
       "      <td>0.444</td>\n",
       "      <td>0.208</td>\n",
       "      <td>0.718000</td>\n",
       "      <td>0.1400</td>\n",
       "      <td>-11.226</td>\n",
       "      <td>0.0269</td>\n",
       "      <td>70.001</td>\n",
       "      <td>0</td>\n",
       "      <td>0</td>\n",
       "    </tr>\n",
       "    <tr>\n",
       "      <th>262</th>\n",
       "      <td>Sarah Geronimo</td>\n",
       "      <td>Hanggang Sa Dulo Ng Walang Hanggan</td>\n",
       "      <td>6</td>\n",
       "      <td>236533</td>\n",
       "      <td>0.8860</td>\n",
       "      <td>0.164</td>\n",
       "      <td>0.285</td>\n",
       "      <td>0.000742</td>\n",
       "      <td>0.0637</td>\n",
       "      <td>-9.372</td>\n",
       "      <td>0.0342</td>\n",
       "      <td>78.761</td>\n",
       "      <td>0</td>\n",
       "      <td>0</td>\n",
       "    </tr>\n",
       "    <tr>\n",
       "      <th>...</th>\n",
       "      <td>...</td>\n",
       "      <td>...</td>\n",
       "      <td>...</td>\n",
       "      <td>...</td>\n",
       "      <td>...</td>\n",
       "      <td>...</td>\n",
       "      <td>...</td>\n",
       "      <td>...</td>\n",
       "      <td>...</td>\n",
       "      <td>...</td>\n",
       "      <td>...</td>\n",
       "      <td>...</td>\n",
       "      <td>...</td>\n",
       "      <td>...</td>\n",
       "    </tr>\n",
       "    <tr>\n",
       "      <th>10</th>\n",
       "      <td>Angeline Quinto</td>\n",
       "      <td>Gusto Kita</td>\n",
       "      <td>46</td>\n",
       "      <td>288000</td>\n",
       "      <td>0.5940</td>\n",
       "      <td>0.461</td>\n",
       "      <td>0.474</td>\n",
       "      <td>0.000000</td>\n",
       "      <td>0.0976</td>\n",
       "      <td>-7.479</td>\n",
       "      <td>0.0347</td>\n",
       "      <td>71.760</td>\n",
       "      <td>0</td>\n",
       "      <td>0</td>\n",
       "    </tr>\n",
       "    <tr>\n",
       "      <th>254</th>\n",
       "      <td>Sarah Geronimo</td>\n",
       "      <td>It Takes a Man and a Woman</td>\n",
       "      <td>48</td>\n",
       "      <td>229306</td>\n",
       "      <td>0.6880</td>\n",
       "      <td>0.452</td>\n",
       "      <td>0.465</td>\n",
       "      <td>0.000000</td>\n",
       "      <td>0.1220</td>\n",
       "      <td>-8.314</td>\n",
       "      <td>0.0484</td>\n",
       "      <td>88.585</td>\n",
       "      <td>0</td>\n",
       "      <td>0</td>\n",
       "    </tr>\n",
       "    <tr>\n",
       "      <th>54</th>\n",
       "      <td>Angeline Quinto</td>\n",
       "      <td>Kunin Mo Na Ang Lahat Sa Akin</td>\n",
       "      <td>49</td>\n",
       "      <td>278755</td>\n",
       "      <td>0.9420</td>\n",
       "      <td>0.394</td>\n",
       "      <td>0.238</td>\n",
       "      <td>0.000160</td>\n",
       "      <td>0.0921</td>\n",
       "      <td>-9.817</td>\n",
       "      <td>0.0375</td>\n",
       "      <td>128.322</td>\n",
       "      <td>0</td>\n",
       "      <td>0</td>\n",
       "    </tr>\n",
       "    <tr>\n",
       "      <th>270</th>\n",
       "      <td>Sarah Geronimo</td>\n",
       "      <td>Forever'S Not Enough</td>\n",
       "      <td>52</td>\n",
       "      <td>267733</td>\n",
       "      <td>0.7310</td>\n",
       "      <td>0.422</td>\n",
       "      <td>0.378</td>\n",
       "      <td>0.000000</td>\n",
       "      <td>0.1640</td>\n",
       "      <td>-7.328</td>\n",
       "      <td>0.0276</td>\n",
       "      <td>142.651</td>\n",
       "      <td>0</td>\n",
       "      <td>0</td>\n",
       "    </tr>\n",
       "    <tr>\n",
       "      <th>2</th>\n",
       "      <td>Angeline Quinto</td>\n",
       "      <td>At Ang Hirap</td>\n",
       "      <td>53</td>\n",
       "      <td>257567</td>\n",
       "      <td>0.8430</td>\n",
       "      <td>0.434</td>\n",
       "      <td>0.357</td>\n",
       "      <td>0.000002</td>\n",
       "      <td>0.1690</td>\n",
       "      <td>-8.532</td>\n",
       "      <td>0.0507</td>\n",
       "      <td>129.769</td>\n",
       "      <td>0</td>\n",
       "      <td>0</td>\n",
       "    </tr>\n",
       "  </tbody>\n",
       "</table>\n",
       "<p>96 rows × 14 columns</p>\n",
       "</div>"
      ],
      "text/plain": [
       "              artist                                   name  popularity  \\\n",
       "337   Sarah Geronimo                  Where Only Angels Fly           0   \n",
       "353   Sarah Geronimo                  Where Only Angels Fly           1   \n",
       "61   Angeline Quinto  Wag Mo Akong Iwan Mag Isa - Minus One           4   \n",
       "43   Angeline Quinto            Babalikang Muli - Minus One           5   \n",
       "262   Sarah Geronimo     Hanggang Sa Dulo Ng Walang Hanggan           6   \n",
       "..               ...                                    ...         ...   \n",
       "10   Angeline Quinto                             Gusto Kita          46   \n",
       "254   Sarah Geronimo             It Takes a Man and a Woman          48   \n",
       "54   Angeline Quinto          Kunin Mo Na Ang Lahat Sa Akin          49   \n",
       "270   Sarah Geronimo                   Forever'S Not Enough          52   \n",
       "2    Angeline Quinto                           At Ang Hirap          53   \n",
       "\n",
       "     duration_ms  acousticness  danceability  energy  instrumentalness  \\\n",
       "337       239880        0.0563         0.466   0.473          0.000000   \n",
       "353       239866        0.0544         0.470   0.471          0.000000   \n",
       "61        270135        0.3820         0.358   0.121          0.262000   \n",
       "43        242146        0.7480         0.444   0.208          0.718000   \n",
       "262       236533        0.8860         0.164   0.285          0.000742   \n",
       "..           ...           ...           ...     ...               ...   \n",
       "10        288000        0.5940         0.461   0.474          0.000000   \n",
       "254       229306        0.6880         0.452   0.465          0.000000   \n",
       "54        278755        0.9420         0.394   0.238          0.000160   \n",
       "270       267733        0.7310         0.422   0.378          0.000000   \n",
       "2         257567        0.8430         0.434   0.357          0.000002   \n",
       "\n",
       "     liveness  loudness  speechiness    tempo  positive  drive  \n",
       "337    0.0898    -6.997       0.0281  127.847         0      0  \n",
       "353    0.1000    -6.980       0.0283  127.898         0      0  \n",
       "61     0.1500   -14.927       0.0316  135.657         0      0  \n",
       "43     0.1400   -11.226       0.0269   70.001         0      0  \n",
       "262    0.0637    -9.372       0.0342   78.761         0      0  \n",
       "..        ...       ...          ...      ...       ...    ...  \n",
       "10     0.0976    -7.479       0.0347   71.760         0      0  \n",
       "254    0.1220    -8.314       0.0484   88.585         0      0  \n",
       "54     0.0921    -9.817       0.0375  128.322         0      0  \n",
       "270    0.1640    -7.328       0.0276  142.651         0      0  \n",
       "2      0.1690    -8.532       0.0507  129.769         0      0  \n",
       "\n",
       "[96 rows x 14 columns]"
      ]
     },
     "execution_count": 18,
     "metadata": {},
     "output_type": "execute_result"
    }
   ],
   "source": [
    "drive_2"
   ]
  },
  {
   "cell_type": "code",
   "execution_count": null,
   "metadata": {
    "id": "y9a6gcS7LTlZ"
   },
   "outputs": [],
   "source": [
    "df = drive_1.append(drive_2)"
   ]
  },
  {
   "cell_type": "code",
   "execution_count": null,
   "metadata": {
    "id": "xpMwRiq7LTla"
   },
   "outputs": [],
   "source": [
    "df = df.sort_values('popularity') # на всякий случай снова отсортируем датафрейм по популярности"
   ]
  },
  {
   "cell_type": "code",
   "execution_count": null,
   "metadata": {
    "id": "Ob2Poo-QLTla",
    "outputId": "f98d9bc1-26fa-4ef4-f1c5-25bd10ee4c34"
   },
   "outputs": [
    {
     "data": {
      "text/html": [
       "<div>\n",
       "<style scoped>\n",
       "    .dataframe tbody tr th:only-of-type {\n",
       "        vertical-align: middle;\n",
       "    }\n",
       "\n",
       "    .dataframe tbody tr th {\n",
       "        vertical-align: top;\n",
       "    }\n",
       "\n",
       "    .dataframe thead th {\n",
       "        text-align: right;\n",
       "    }\n",
       "</style>\n",
       "<table border=\"1\" class=\"dataframe\">\n",
       "  <thead>\n",
       "    <tr style=\"text-align: right;\">\n",
       "      <th></th>\n",
       "      <th>artist</th>\n",
       "      <th>name</th>\n",
       "      <th>popularity</th>\n",
       "      <th>duration_ms</th>\n",
       "      <th>acousticness</th>\n",
       "      <th>danceability</th>\n",
       "      <th>energy</th>\n",
       "      <th>instrumentalness</th>\n",
       "      <th>liveness</th>\n",
       "      <th>loudness</th>\n",
       "      <th>speechiness</th>\n",
       "      <th>tempo</th>\n",
       "      <th>positive</th>\n",
       "      <th>drive</th>\n",
       "    </tr>\n",
       "  </thead>\n",
       "  <tbody>\n",
       "    <tr>\n",
       "      <th>118</th>\n",
       "      <td>Jona</td>\n",
       "      <td>Back in Time</td>\n",
       "      <td>0</td>\n",
       "      <td>160877</td>\n",
       "      <td>0.01080</td>\n",
       "      <td>0.783</td>\n",
       "      <td>0.824</td>\n",
       "      <td>0.000795</td>\n",
       "      <td>0.0748</td>\n",
       "      <td>-4.558</td>\n",
       "      <td>0.0598</td>\n",
       "      <td>139.998</td>\n",
       "      <td>0</td>\n",
       "      <td>1</td>\n",
       "    </tr>\n",
       "    <tr>\n",
       "      <th>337</th>\n",
       "      <td>Sarah Geronimo</td>\n",
       "      <td>Where Only Angels Fly</td>\n",
       "      <td>0</td>\n",
       "      <td>239880</td>\n",
       "      <td>0.05630</td>\n",
       "      <td>0.466</td>\n",
       "      <td>0.473</td>\n",
       "      <td>0.000000</td>\n",
       "      <td>0.0898</td>\n",
       "      <td>-6.997</td>\n",
       "      <td>0.0281</td>\n",
       "      <td>127.847</td>\n",
       "      <td>0</td>\n",
       "      <td>0</td>\n",
       "    </tr>\n",
       "    <tr>\n",
       "      <th>335</th>\n",
       "      <td>Sarah Geronimo</td>\n",
       "      <td>You'Re the Love Of My Life</td>\n",
       "      <td>0</td>\n",
       "      <td>235226</td>\n",
       "      <td>0.45800</td>\n",
       "      <td>0.503</td>\n",
       "      <td>0.515</td>\n",
       "      <td>0.000000</td>\n",
       "      <td>0.1940</td>\n",
       "      <td>-6.088</td>\n",
       "      <td>0.0282</td>\n",
       "      <td>127.920</td>\n",
       "      <td>0</td>\n",
       "      <td>1</td>\n",
       "    </tr>\n",
       "    <tr>\n",
       "      <th>347</th>\n",
       "      <td>Sarah Geronimo</td>\n",
       "      <td>What Have You Done to My Heart</td>\n",
       "      <td>0</td>\n",
       "      <td>229733</td>\n",
       "      <td>0.13000</td>\n",
       "      <td>0.596</td>\n",
       "      <td>0.659</td>\n",
       "      <td>0.000000</td>\n",
       "      <td>0.1580</td>\n",
       "      <td>-6.693</td>\n",
       "      <td>0.0282</td>\n",
       "      <td>101.782</td>\n",
       "      <td>0</td>\n",
       "      <td>1</td>\n",
       "    </tr>\n",
       "    <tr>\n",
       "      <th>346</th>\n",
       "      <td>Sarah Geronimo</td>\n",
       "      <td>I Am Falling</td>\n",
       "      <td>0</td>\n",
       "      <td>249453</td>\n",
       "      <td>0.26600</td>\n",
       "      <td>0.594</td>\n",
       "      <td>0.669</td>\n",
       "      <td>0.000000</td>\n",
       "      <td>0.0727</td>\n",
       "      <td>-5.704</td>\n",
       "      <td>0.0279</td>\n",
       "      <td>132.003</td>\n",
       "      <td>0</td>\n",
       "      <td>1</td>\n",
       "    </tr>\n",
       "    <tr>\n",
       "      <th>...</th>\n",
       "      <td>...</td>\n",
       "      <td>...</td>\n",
       "      <td>...</td>\n",
       "      <td>...</td>\n",
       "      <td>...</td>\n",
       "      <td>...</td>\n",
       "      <td>...</td>\n",
       "      <td>...</td>\n",
       "      <td>...</td>\n",
       "      <td>...</td>\n",
       "      <td>...</td>\n",
       "      <td>...</td>\n",
       "      <td>...</td>\n",
       "      <td>...</td>\n",
       "    </tr>\n",
       "    <tr>\n",
       "      <th>159</th>\n",
       "      <td>Jona</td>\n",
       "      <td>Summer</td>\n",
       "      <td>58</td>\n",
       "      <td>233239</td>\n",
       "      <td>0.00695</td>\n",
       "      <td>0.583</td>\n",
       "      <td>0.748</td>\n",
       "      <td>0.024100</td>\n",
       "      <td>0.2200</td>\n",
       "      <td>-4.798</td>\n",
       "      <td>0.0292</td>\n",
       "      <td>142.029</td>\n",
       "      <td>0</td>\n",
       "      <td>1</td>\n",
       "    </tr>\n",
       "    <tr>\n",
       "      <th>71</th>\n",
       "      <td>Jona</td>\n",
       "      <td>Hitta (feat. Juicy J)</td>\n",
       "      <td>59</td>\n",
       "      <td>170807</td>\n",
       "      <td>0.01700</td>\n",
       "      <td>0.732</td>\n",
       "      <td>0.956</td>\n",
       "      <td>0.000007</td>\n",
       "      <td>0.3570</td>\n",
       "      <td>-2.775</td>\n",
       "      <td>0.0708</td>\n",
       "      <td>145.103</td>\n",
       "      <td>0</td>\n",
       "      <td>1</td>\n",
       "    </tr>\n",
       "    <tr>\n",
       "      <th>194</th>\n",
       "      <td>Morissette</td>\n",
       "      <td>Nothing's Gonna Stop Us Now - From \"Crazy Beau...</td>\n",
       "      <td>60</td>\n",
       "      <td>258014</td>\n",
       "      <td>0.21600</td>\n",
       "      <td>0.528</td>\n",
       "      <td>0.603</td>\n",
       "      <td>0.000000</td>\n",
       "      <td>0.3040</td>\n",
       "      <td>-5.883</td>\n",
       "      <td>0.0296</td>\n",
       "      <td>185.998</td>\n",
       "      <td>0</td>\n",
       "      <td>1</td>\n",
       "    </tr>\n",
       "    <tr>\n",
       "      <th>167</th>\n",
       "      <td>Jona</td>\n",
       "      <td>Keep It Mello (feat. Omar LinX)</td>\n",
       "      <td>60</td>\n",
       "      <td>243380</td>\n",
       "      <td>0.00134</td>\n",
       "      <td>0.686</td>\n",
       "      <td>0.888</td>\n",
       "      <td>0.000689</td>\n",
       "      <td>0.0736</td>\n",
       "      <td>-3.348</td>\n",
       "      <td>0.0857</td>\n",
       "      <td>142.015</td>\n",
       "      <td>0</td>\n",
       "      <td>1</td>\n",
       "    </tr>\n",
       "    <tr>\n",
       "      <th>75</th>\n",
       "      <td>Jona</td>\n",
       "      <td>Shockwave</td>\n",
       "      <td>69</td>\n",
       "      <td>181283</td>\n",
       "      <td>0.02310</td>\n",
       "      <td>0.577</td>\n",
       "      <td>0.875</td>\n",
       "      <td>0.000005</td>\n",
       "      <td>0.1110</td>\n",
       "      <td>-2.897</td>\n",
       "      <td>0.0681</td>\n",
       "      <td>164.009</td>\n",
       "      <td>0</td>\n",
       "      <td>1</td>\n",
       "    </tr>\n",
       "  </tbody>\n",
       "</table>\n",
       "<p>315 rows × 14 columns</p>\n",
       "</div>"
      ],
      "text/plain": [
       "             artist                                               name  \\\n",
       "118            Jona                                       Back in Time   \n",
       "337  Sarah Geronimo                              Where Only Angels Fly   \n",
       "335  Sarah Geronimo                         You'Re the Love Of My Life   \n",
       "347  Sarah Geronimo                     What Have You Done to My Heart   \n",
       "346  Sarah Geronimo                                       I Am Falling   \n",
       "..              ...                                                ...   \n",
       "159            Jona                                             Summer   \n",
       "71             Jona                              Hitta (feat. Juicy J)   \n",
       "194      Morissette  Nothing's Gonna Stop Us Now - From \"Crazy Beau...   \n",
       "167            Jona                    Keep It Mello (feat. Omar LinX)   \n",
       "75             Jona                                          Shockwave   \n",
       "\n",
       "     popularity  duration_ms  acousticness  danceability  energy  \\\n",
       "118           0       160877       0.01080         0.783   0.824   \n",
       "337           0       239880       0.05630         0.466   0.473   \n",
       "335           0       235226       0.45800         0.503   0.515   \n",
       "347           0       229733       0.13000         0.596   0.659   \n",
       "346           0       249453       0.26600         0.594   0.669   \n",
       "..          ...          ...           ...           ...     ...   \n",
       "159          58       233239       0.00695         0.583   0.748   \n",
       "71           59       170807       0.01700         0.732   0.956   \n",
       "194          60       258014       0.21600         0.528   0.603   \n",
       "167          60       243380       0.00134         0.686   0.888   \n",
       "75           69       181283       0.02310         0.577   0.875   \n",
       "\n",
       "     instrumentalness  liveness  loudness  speechiness    tempo  positive  \\\n",
       "118          0.000795    0.0748    -4.558       0.0598  139.998         0   \n",
       "337          0.000000    0.0898    -6.997       0.0281  127.847         0   \n",
       "335          0.000000    0.1940    -6.088       0.0282  127.920         0   \n",
       "347          0.000000    0.1580    -6.693       0.0282  101.782         0   \n",
       "346          0.000000    0.0727    -5.704       0.0279  132.003         0   \n",
       "..                ...       ...       ...          ...      ...       ...   \n",
       "159          0.024100    0.2200    -4.798       0.0292  142.029         0   \n",
       "71           0.000007    0.3570    -2.775       0.0708  145.103         0   \n",
       "194          0.000000    0.3040    -5.883       0.0296  185.998         0   \n",
       "167          0.000689    0.0736    -3.348       0.0857  142.015         0   \n",
       "75           0.000005    0.1110    -2.897       0.0681  164.009         0   \n",
       "\n",
       "     drive  \n",
       "118      1  \n",
       "337      0  \n",
       "335      1  \n",
       "347      1  \n",
       "346      1  \n",
       "..     ...  \n",
       "159      1  \n",
       "71       1  \n",
       "194      1  \n",
       "167      1  \n",
       "75       1  \n",
       "\n",
       "[315 rows x 14 columns]"
      ]
     },
     "execution_count": 21,
     "metadata": {},
     "output_type": "execute_result"
    }
   ],
   "source": [
    "df"
   ]
  },
  {
   "cell_type": "code",
   "execution_count": null,
   "metadata": {
    "id": "KgJ1H5ytLTlb",
    "outputId": "ca793fb6-3d72-43c6-f346-9e4f32e47034"
   },
   "outputs": [
    {
     "data": {
      "text/plain": [
       "1    219\n",
       "0     96\n",
       "Name: drive, dtype: int64"
      ]
     },
     "execution_count": 22,
     "metadata": {},
     "output_type": "execute_result"
    }
   ],
   "source": [
    "df['drive'].value_counts() # всё работает, нет лишних значений"
   ]
  },
  {
   "cell_type": "code",
   "execution_count": null,
   "metadata": {
    "id": "HLt87-rfLTlc"
   },
   "outputs": [],
   "source": [
    "df = df.drop(columns = ['danceability', 'energy'], axis=1) # удаляем ненужные столбцы"
   ]
  },
  {
   "cell_type": "markdown",
   "metadata": {
    "id": "_pv-tSDKLTlc"
   },
   "source": [
    "**Описание данных**"
   ]
  },
  {
   "cell_type": "code",
   "execution_count": null,
   "metadata": {
    "id": "QBH1-4PbLTld",
    "outputId": "e09a2923-72f9-4c14-ca79-9abea41c1117"
   },
   "outputs": [
    {
     "data": {
      "text/html": [
       "<div>\n",
       "<style scoped>\n",
       "    .dataframe tbody tr th:only-of-type {\n",
       "        vertical-align: middle;\n",
       "    }\n",
       "\n",
       "    .dataframe tbody tr th {\n",
       "        vertical-align: top;\n",
       "    }\n",
       "\n",
       "    .dataframe thead th {\n",
       "        text-align: right;\n",
       "    }\n",
       "</style>\n",
       "<table border=\"1\" class=\"dataframe\">\n",
       "  <thead>\n",
       "    <tr style=\"text-align: right;\">\n",
       "      <th></th>\n",
       "      <th>popularity</th>\n",
       "      <th>duration_ms</th>\n",
       "      <th>acousticness</th>\n",
       "      <th>instrumentalness</th>\n",
       "      <th>liveness</th>\n",
       "      <th>loudness</th>\n",
       "      <th>speechiness</th>\n",
       "      <th>tempo</th>\n",
       "      <th>positive</th>\n",
       "      <th>drive</th>\n",
       "    </tr>\n",
       "  </thead>\n",
       "  <tbody>\n",
       "    <tr>\n",
       "      <th>count</th>\n",
       "      <td>315.000000</td>\n",
       "      <td>315.000000</td>\n",
       "      <td>315.000000</td>\n",
       "      <td>315.000000</td>\n",
       "      <td>315.000000</td>\n",
       "      <td>315.000000</td>\n",
       "      <td>315.000000</td>\n",
       "      <td>315.000000</td>\n",
       "      <td>315.000000</td>\n",
       "      <td>315.000000</td>\n",
       "    </tr>\n",
       "    <tr>\n",
       "      <th>mean</th>\n",
       "      <td>20.073016</td>\n",
       "      <td>222032.225397</td>\n",
       "      <td>0.326408</td>\n",
       "      <td>0.123995</td>\n",
       "      <td>0.185960</td>\n",
       "      <td>-6.139232</td>\n",
       "      <td>0.049061</td>\n",
       "      <td>125.520067</td>\n",
       "      <td>0.279365</td>\n",
       "      <td>0.695238</td>\n",
       "    </tr>\n",
       "    <tr>\n",
       "      <th>std</th>\n",
       "      <td>16.646313</td>\n",
       "      <td>44869.239468</td>\n",
       "      <td>0.343335</td>\n",
       "      <td>0.270918</td>\n",
       "      <td>0.132181</td>\n",
       "      <td>2.883590</td>\n",
       "      <td>0.037142</td>\n",
       "      <td>26.463144</td>\n",
       "      <td>0.449401</td>\n",
       "      <td>0.461039</td>\n",
       "    </tr>\n",
       "    <tr>\n",
       "      <th>min</th>\n",
       "      <td>0.000000</td>\n",
       "      <td>63120.000000</td>\n",
       "      <td>0.000038</td>\n",
       "      <td>0.000000</td>\n",
       "      <td>0.040700</td>\n",
       "      <td>-15.667000</td>\n",
       "      <td>0.025100</td>\n",
       "      <td>66.268000</td>\n",
       "      <td>0.000000</td>\n",
       "      <td>0.000000</td>\n",
       "    </tr>\n",
       "    <tr>\n",
       "      <th>25%</th>\n",
       "      <td>6.000000</td>\n",
       "      <td>182074.000000</td>\n",
       "      <td>0.010800</td>\n",
       "      <td>0.000000</td>\n",
       "      <td>0.093550</td>\n",
       "      <td>-7.987000</td>\n",
       "      <td>0.029700</td>\n",
       "      <td>108.372000</td>\n",
       "      <td>0.000000</td>\n",
       "      <td>0.000000</td>\n",
       "    </tr>\n",
       "    <tr>\n",
       "      <th>50%</th>\n",
       "      <td>17.000000</td>\n",
       "      <td>225893.000000</td>\n",
       "      <td>0.177000</td>\n",
       "      <td>0.000007</td>\n",
       "      <td>0.134000</td>\n",
       "      <td>-5.683000</td>\n",
       "      <td>0.034800</td>\n",
       "      <td>129.900000</td>\n",
       "      <td>0.000000</td>\n",
       "      <td>1.000000</td>\n",
       "    </tr>\n",
       "    <tr>\n",
       "      <th>75%</th>\n",
       "      <td>32.000000</td>\n",
       "      <td>249836.000000</td>\n",
       "      <td>0.648000</td>\n",
       "      <td>0.005690</td>\n",
       "      <td>0.248000</td>\n",
       "      <td>-3.726000</td>\n",
       "      <td>0.049750</td>\n",
       "      <td>142.159000</td>\n",
       "      <td>1.000000</td>\n",
       "      <td>1.000000</td>\n",
       "    </tr>\n",
       "    <tr>\n",
       "      <th>max</th>\n",
       "      <td>69.000000</td>\n",
       "      <td>351693.000000</td>\n",
       "      <td>0.962000</td>\n",
       "      <td>0.971000</td>\n",
       "      <td>0.823000</td>\n",
       "      <td>-0.958000</td>\n",
       "      <td>0.293000</td>\n",
       "      <td>188.031000</td>\n",
       "      <td>1.000000</td>\n",
       "      <td>1.000000</td>\n",
       "    </tr>\n",
       "  </tbody>\n",
       "</table>\n",
       "</div>"
      ],
      "text/plain": [
       "       popularity    duration_ms  acousticness  instrumentalness    liveness  \\\n",
       "count  315.000000     315.000000    315.000000        315.000000  315.000000   \n",
       "mean    20.073016  222032.225397      0.326408          0.123995    0.185960   \n",
       "std     16.646313   44869.239468      0.343335          0.270918    0.132181   \n",
       "min      0.000000   63120.000000      0.000038          0.000000    0.040700   \n",
       "25%      6.000000  182074.000000      0.010800          0.000000    0.093550   \n",
       "50%     17.000000  225893.000000      0.177000          0.000007    0.134000   \n",
       "75%     32.000000  249836.000000      0.648000          0.005690    0.248000   \n",
       "max     69.000000  351693.000000      0.962000          0.971000    0.823000   \n",
       "\n",
       "         loudness  speechiness       tempo    positive       drive  \n",
       "count  315.000000   315.000000  315.000000  315.000000  315.000000  \n",
       "mean    -6.139232     0.049061  125.520067    0.279365    0.695238  \n",
       "std      2.883590     0.037142   26.463144    0.449401    0.461039  \n",
       "min    -15.667000     0.025100   66.268000    0.000000    0.000000  \n",
       "25%     -7.987000     0.029700  108.372000    0.000000    0.000000  \n",
       "50%     -5.683000     0.034800  129.900000    0.000000    1.000000  \n",
       "75%     -3.726000     0.049750  142.159000    1.000000    1.000000  \n",
       "max     -0.958000     0.293000  188.031000    1.000000    1.000000  "
      ]
     },
     "execution_count": 24,
     "metadata": {},
     "output_type": "execute_result"
    }
   ],
   "source": [
    "df.describe()"
   ]
  },
  {
   "cell_type": "markdown",
   "metadata": {
    "id": "cCW1xsFJLTle"
   },
   "source": [
    "Получаются следующие данные по каждому столбцу:\n",
    "\n",
    "**Длительность**\n",
    "- В среднем, популярные песни на Spotify длятся 222032.225 миллисекунд или 3.7 минуты\n",
    "- Максимальная длительность песни из списка популярных 351693 миллисекунд или 5.9 минут, что достаточно много для поп-песен, но не так много для песен в других жанрах\n",
    "\n",
    "**Акуситика**\n",
    "- В среднем, популярные песни \"акустичны\" на 0.33, что может говорить об уклоне современных артистов и их продюсеров в сторону электронной музыки\n",
    "\n",
    "**Инструментальность**\n",
    "- В среднем, популярные песни \"инструментальны\" на 0.12, что может говорить о \"минималистичном\" характере песен - чем проще аранжировка, тем лучше слушается\n",
    "\n",
    "**Живость**\n",
    "- В среднем, в популярных песнях присутствует живое исполнение на 0.185, что может говорить о стремлении современных артистов и их продюсеров к \"искусственному\", электронному звучанию\n",
    "\n",
    "**Громкость**\n",
    "- В среднем, мастер-трек популярных песен звучит на громкости -6.14 децибел, что соответствует современным музыкальным стандартам\n",
    "- Максимальная громкость популярного трека -0.96, что очень близко к экстремальным значениям, превышающим 0 децибел\n",
    "\n",
    "**Лиричность**\n",
    "- Среднее значение 0.05, максимальное - всего 0.29. Это может говорить о низком значении текстов для популярной музыки\n",
    "\n",
    "**Темп**\n",
    "- Среднее значение темпа - 125.52\n",
    "- Максимальное - 188\n",
    "- Все эти значения соответствуют стандартам танцевальной музыки\n",
    "\n",
    "**Позитивность трека**\n",
    "- Среднее значение - 0.28. В современной популярной музыке очень много грусти\n",
    "\n",
    "**Энергичность (drive)**\n",
    "- Среднее значение - 0.695, что может говорить о том, что популярная музыка так или иначе заставляет танцевать слушателя"
   ]
  },
  {
   "cell_type": "markdown",
   "metadata": {
    "id": "9TFEhhGcLTle"
   },
   "source": [
    "**Графики распределения показателей**"
   ]
  },
  {
   "cell_type": "code",
   "execution_count": null,
   "metadata": {
    "id": "Um0kqGbVLTlf",
    "outputId": "0a4b6372-a509-47d7-e4fc-1feb4de86f9c"
   },
   "outputs": [
    {
     "data": {
      "image/png": "[encoded data removed]",
      "text/plain": [
       "<Figure size 432x288 with 1 Axes>"
      ]
     },
     "metadata": {
      "needs_background": "light"
     },
     "output_type": "display_data"
    }
   ],
   "source": [
    "plt.hist(df['duration_ms'], color = \"cornflowerblue\", edgecolor = \"white\", bins = 30);"
   ]
  },
  {
   "cell_type": "markdown",
   "metadata": {
    "id": "CTJfcuwsLTlf"
   },
   "source": [
    "- Распределение длительности в целом ближе к нормальному, однако есть небольшая скошенность влево, что может объясняться тяготением популярной музыки к краткости, чтобы не наскучить слушателю"
   ]
  },
  {
   "cell_type": "code",
   "execution_count": null,
   "metadata": {
    "id": "3od9EPYMLTlg",
    "outputId": "a6bae4ec-2e97-40e5-f95c-a58960a2952f"
   },
   "outputs": [
    {
     "data": {
      "image/png": "[encoded data removed]",
      "text/plain": [
       "<Figure size 432x288 with 1 Axes>"
      ]
     },
     "metadata": {
      "needs_background": "light"
     },
     "output_type": "display_data"
    }
   ],
   "source": [
    "plt.hist(df['tempo'], color = \"cornflowerblue\", edgecolor = \"white\", bins = 30);"
   ]
  },
  {
   "cell_type": "markdown",
   "metadata": {
    "id": "muHMRrc3LTlh"
   },
   "source": [
    "- Распределение темпа тоже скошено влево"
   ]
  },
  {
   "cell_type": "code",
   "execution_count": null,
   "metadata": {
    "id": "-ZAHXWsILTlh",
    "outputId": "6b76ee26-ff5b-428c-f2e6-52b7f4635642"
   },
   "outputs": [
    {
     "data": {
      "image/png": "[encoded data removed]",
      "text/plain": [
       "<Figure size 432x288 with 1 Axes>"
      ]
     },
     "metadata": {
      "needs_background": "light"
     },
     "output_type": "display_data"
    }
   ],
   "source": [
    "plt.hist(df['acousticness'], color = \"cornflowerblue\", edgecolor = \"white\", bins = 30);"
   ]
  },
  {
   "cell_type": "markdown",
   "metadata": {
    "id": "9XaPa8TkLTli"
   },
   "source": [
    "- В распределении акустики преобладают низкие показатели. Совпадает с интерпретацией в прошлом пункте"
   ]
  },
  {
   "cell_type": "code",
   "execution_count": null,
   "metadata": {
    "id": "m6PEy8wYLTli",
    "outputId": "b098d782-17d0-4abf-a3e2-025de9c13426"
   },
   "outputs": [
    {
     "data": {
      "image/png": "[encoded data removed]",
      "text/plain": [
       "<Figure size 432x288 with 1 Axes>"
      ]
     },
     "metadata": {
      "needs_background": "light"
     },
     "output_type": "display_data"
    }
   ],
   "source": [
    "plt.hist(df['instrumentalness'], color = \"cornflowerblue\", edgecolor = \"white\", bins = 30);"
   ]
  },
  {
   "cell_type": "markdown",
   "metadata": {
    "id": "xy_GDFNlLTlj"
   },
   "source": [
    "- В распределении инструментальности тоже преобладают низкие значения."
   ]
  },
  {
   "cell_type": "code",
   "execution_count": null,
   "metadata": {
    "id": "-CxL06-MLTly",
    "outputId": "8b10c111-57e5-4b5b-b6e8-51e8830299c9"
   },
   "outputs": [
    {
     "data": {
      "image/png": "[encoded data removed]",
      "text/plain": [
       "<Figure size 432x288 with 1 Axes>"
      ]
     },
     "metadata": {
      "needs_background": "light"
     },
     "output_type": "display_data"
    }
   ],
   "source": [
    "plt.hist(df['liveness'], color = \"cornflowerblue\", edgecolor = \"white\", bins = 30);"
   ]
  },
  {
   "cell_type": "markdown",
   "metadata": {
    "id": "4cg1CDwlLTlz"
   },
   "source": [
    "- В показателях живого исполнения тоже преобладают низкие значения. Совпадает с интерпретацией выше"
   ]
  },
  {
   "cell_type": "code",
   "execution_count": null,
   "metadata": {
    "id": "A7RS_8w-LTlz",
    "outputId": "a380e6e1-5335-4476-c8b6-ed1c5e92ab38"
   },
   "outputs": [
    {
     "data": {
      "image/png": "[encoded data removed]",
      "text/plain": [
       "<Figure size 432x288 with 1 Axes>"
      ]
     },
     "metadata": {
      "needs_background": "light"
     },
     "output_type": "display_data"
    }
   ],
   "source": [
    "plt.hist(df['loudness'], color = \"cornflowerblue\", edgecolor = \"white\", bins = 30);"
   ]
  },
  {
   "cell_type": "markdown",
   "metadata": {
    "id": "ml7NhaeCLTl0"
   },
   "source": [
    "- Распределение скошено влево. Мода всё-таки приходится на высокие показатели громкости (примерно -3 децибел), однако большинство песен лежит в интервале от -12 до -3 децибел"
   ]
  },
  {
   "cell_type": "code",
   "execution_count": null,
   "metadata": {
    "id": "X1tCajpmLTl1",
    "outputId": "d0f9eb28-e336-4b51-84e6-5659b9441097"
   },
   "outputs": [
    {
     "data": {
      "image/png": "[encoded data removed]",
      "text/plain": [
       "<Figure size 432x288 with 1 Axes>"
      ]
     },
     "metadata": {
      "needs_background": "light"
     },
     "output_type": "display_data"
    }
   ],
   "source": [
    "plt.hist(df['speechiness'], color = \"cornflowerblue\", edgecolor = \"white\", bins = 30);"
   ]
  },
  {
   "cell_type": "markdown",
   "metadata": {
    "id": "rzndzFOLLTl2"
   },
   "source": [
    "- Почти все значения близятся к нулю. Совпадает с интерпретацией выше"
   ]
  },
  {
   "cell_type": "markdown",
   "metadata": {
    "id": "4aQ3MQKyLTmB"
   },
   "source": [
    "**Проверка гипотез: сравнение двух средних**"
   ]
  },
  {
   "cell_type": "code",
   "execution_count": null,
   "metadata": {
    "id": "jbhIrft8LTmC",
    "outputId": "06c6a0aa-3be0-4910-f376-6d29b3f3f57a"
   },
   "outputs": [
    {
     "data": {
      "text/html": [
       "<div>\n",
       "<style scoped>\n",
       "    .dataframe tbody tr th:only-of-type {\n",
       "        vertical-align: middle;\n",
       "    }\n",
       "\n",
       "    .dataframe tbody tr th {\n",
       "        vertical-align: top;\n",
       "    }\n",
       "\n",
       "    .dataframe thead th {\n",
       "        text-align: right;\n",
       "    }\n",
       "</style>\n",
       "<table border=\"1\" class=\"dataframe\">\n",
       "  <thead>\n",
       "    <tr style=\"text-align: right;\">\n",
       "      <th></th>\n",
       "      <th>popularity</th>\n",
       "      <th>duration_ms</th>\n",
       "      <th>acousticness</th>\n",
       "      <th>instrumentalness</th>\n",
       "      <th>liveness</th>\n",
       "      <th>loudness</th>\n",
       "      <th>speechiness</th>\n",
       "      <th>tempo</th>\n",
       "      <th>drive</th>\n",
       "    </tr>\n",
       "    <tr>\n",
       "      <th>positive</th>\n",
       "      <th></th>\n",
       "      <th></th>\n",
       "      <th></th>\n",
       "      <th></th>\n",
       "      <th></th>\n",
       "      <th></th>\n",
       "      <th></th>\n",
       "      <th></th>\n",
       "      <th></th>\n",
       "    </tr>\n",
       "  </thead>\n",
       "  <tbody>\n",
       "    <tr>\n",
       "      <th>0</th>\n",
       "      <td>20.784141</td>\n",
       "      <td>229506.185022</td>\n",
       "      <td>0.402900</td>\n",
       "      <td>0.100456</td>\n",
       "      <td>0.164567</td>\n",
       "      <td>-6.696273</td>\n",
       "      <td>0.042208</td>\n",
       "      <td>125.409123</td>\n",
       "      <td>0.577093</td>\n",
       "    </tr>\n",
       "    <tr>\n",
       "      <th>1</th>\n",
       "      <td>18.238636</td>\n",
       "      <td>202752.806818</td>\n",
       "      <td>0.129094</td>\n",
       "      <td>0.184714</td>\n",
       "      <td>0.241144</td>\n",
       "      <td>-4.702318</td>\n",
       "      <td>0.066739</td>\n",
       "      <td>125.806250</td>\n",
       "      <td>1.000000</td>\n",
       "    </tr>\n",
       "  </tbody>\n",
       "</table>\n",
       "</div>"
      ],
      "text/plain": [
       "          popularity    duration_ms  acousticness  instrumentalness  liveness  \\\n",
       "positive                                                                        \n",
       "0          20.784141  229506.185022      0.402900          0.100456  0.164567   \n",
       "1          18.238636  202752.806818      0.129094          0.184714  0.241144   \n",
       "\n",
       "          loudness  speechiness       tempo     drive  \n",
       "positive                                               \n",
       "0        -6.696273     0.042208  125.409123  0.577093  \n",
       "1        -4.702318     0.066739  125.806250  1.000000  "
      ]
     },
     "execution_count": 35,
     "metadata": {},
     "output_type": "execute_result"
    }
   ],
   "source": [
    "df.groupby('positive').mean() # вычисляем, насколько в среднем будет популярна песня, если она позитивная или грустная\n",
    "# или иначе: какое место в топе в среднем займёт позитивная или негативная песня"
   ]
  },
  {
   "cell_type": "code",
   "execution_count": null,
   "metadata": {
    "id": "6115IUnwLTmC"
   },
   "outputs": [],
   "source": [
    "song_pos = df[df['positive'] == 1]\n",
    "song_neg = df[df['positive'] == 0]"
   ]
  },
  {
   "cell_type": "code",
   "execution_count": null,
   "metadata": {
    "id": "6a6nI-ArLTmD",
    "outputId": "1cd82dc7-1a2c-46bb-ae52-8b6f23449027"
   },
   "outputs": [
    {
     "data": {
      "text/plain": [
       "Ttest_indResult(statistic=-1.2186811135427247, pvalue=0.22388296306128105)"
      ]
     },
     "execution_count": 37,
     "metadata": {},
     "output_type": "execute_result"
    }
   ],
   "source": [
    "st.ttest_ind(song_pos[\"popularity\"], song_neg[\"popularity\"])"
   ]
  },
  {
   "cell_type": "markdown",
   "metadata": {
    "id": "-9DGAn3fLTmE"
   },
   "source": [
    "При уровне доверия 95% у нас нет оснований отвергнуть гипотезу о равенстве средних двух групп. Поэтому средняя популярность позитивных и негативных песен будет равной. Ура! Можно сочинять весёлую музыку"
   ]
  },
  {
   "cell_type": "markdown",
   "metadata": {
    "id": "DHMwexCuLTmE"
   },
   "source": [
    "**Проверка гипотез: что влияет на популярность**"
   ]
  },
  {
   "cell_type": "code",
   "execution_count": null,
   "metadata": {
    "id": "2BCn1ysLLTmF",
    "outputId": "6d7659fa-5416-4494-b981-676d00fce0ca"
   },
   "outputs": [
    {
     "data": {
      "text/html": [
       "<div>\n",
       "<style scoped>\n",
       "    .dataframe tbody tr th:only-of-type {\n",
       "        vertical-align: middle;\n",
       "    }\n",
       "\n",
       "    .dataframe tbody tr th {\n",
       "        vertical-align: top;\n",
       "    }\n",
       "\n",
       "    .dataframe thead th {\n",
       "        text-align: right;\n",
       "    }\n",
       "</style>\n",
       "<table border=\"1\" class=\"dataframe\">\n",
       "  <thead>\n",
       "    <tr style=\"text-align: right;\">\n",
       "      <th></th>\n",
       "      <th>duration_ms</th>\n",
       "      <th>drive</th>\n",
       "    </tr>\n",
       "  </thead>\n",
       "  <tbody>\n",
       "    <tr>\n",
       "      <th>duration_ms</th>\n",
       "      <td>1.000000</td>\n",
       "      <td>-0.516113</td>\n",
       "    </tr>\n",
       "    <tr>\n",
       "      <th>drive</th>\n",
       "      <td>-0.516113</td>\n",
       "      <td>1.000000</td>\n",
       "    </tr>\n",
       "  </tbody>\n",
       "</table>\n",
       "</div>"
      ],
      "text/plain": [
       "             duration_ms     drive\n",
       "duration_ms     1.000000 -0.516113\n",
       "drive          -0.516113  1.000000"
      ]
     },
     "execution_count": 40,
     "metadata": {},
     "output_type": "execute_result"
    }
   ],
   "source": [
    "df[['duration_ms', 'drive']].corr()"
   ]
  },
  {
   "cell_type": "code",
   "execution_count": null,
   "metadata": {
    "id": "lHjXBU6cLTmF",
    "outputId": "dd87cd8e-475d-48d1-c678-7ff7a9a4d0db"
   },
   "outputs": [
    {
     "data": {
      "text/plain": [
       "(-0.5161129338691445, 7.660980393822371e-23)"
      ]
     },
     "execution_count": 41,
     "metadata": {},
     "output_type": "execute_result"
    }
   ],
   "source": [
    "st.pearsonr(df['duration_ms'], df['drive'])"
   ]
  },
  {
   "cell_type": "markdown",
   "metadata": {
    "id": "1SsNUcLaLTmG"
   },
   "source": [
    "- P-value практически равно нулю, следовательно, показатели связаны. Чем более энергичная песня, тем менее продолжительной она будет при прочих равных"
   ]
  },
  {
   "cell_type": "code",
   "execution_count": null,
   "metadata": {
    "id": "CokjNni7LTmG",
    "outputId": "b80d472d-69cd-4394-e034-d23934417d09"
   },
   "outputs": [
    {
     "data": {
      "text/plain": [
       "SpearmanrResult(correlation=0.08418001918366794, pvalue=0.13602591641262402)"
      ]
     },
     "execution_count": 43,
     "metadata": {},
     "output_type": "execute_result"
    }
   ],
   "source": [
    "st.spearmanr(df[\"popularity\"], df[\"duration_ms\"]) # теперь стоит посмотреть, если ли связь между длительностью песни и её популярностью"
   ]
  },
  {
   "cell_type": "markdown",
   "metadata": {
    "id": "CmeV4GaALTmH"
   },
   "source": [
    "- Здесь p-value придётся отвергнуть при любом уровне доверия (90-95%). Поэтому можно считать, что между покаказателями нет связи"
   ]
  },
  {
   "cell_type": "markdown",
   "metadata": {
    "id": "MtdtRqb4LTmH"
   },
   "source": [
    "**Множественная регрессия: влияние объективных показателей трека на его популярность**"
   ]
  },
  {
   "cell_type": "markdown",
   "metadata": {
    "id": "MRGcIuuSLTmH"
   },
   "source": [
    "- Сначала построим модель множественной регрессии, чтобы узнать, влияют ли наши показатели на популярность. И если влияют, то с какой силой?"
   ]
  },
  {
   "cell_type": "code",
   "execution_count": null,
   "metadata": {
    "id": "w8P8j-l8LTmH",
    "outputId": "268a55c1-bd33-4ccd-cf99-d53a3b1dbbe0"
   },
   "outputs": [
    {
     "data": {
      "text/html": [
       "<div>\n",
       "<style scoped>\n",
       "    .dataframe tbody tr th:only-of-type {\n",
       "        vertical-align: middle;\n",
       "    }\n",
       "\n",
       "    .dataframe tbody tr th {\n",
       "        vertical-align: top;\n",
       "    }\n",
       "\n",
       "    .dataframe thead th {\n",
       "        text-align: right;\n",
       "    }\n",
       "</style>\n",
       "<table border=\"1\" class=\"dataframe\">\n",
       "  <thead>\n",
       "    <tr style=\"text-align: right;\">\n",
       "      <th></th>\n",
       "      <th>artist</th>\n",
       "      <th>name</th>\n",
       "      <th>popularity</th>\n",
       "      <th>duration_ms</th>\n",
       "      <th>acousticness</th>\n",
       "      <th>instrumentalness</th>\n",
       "      <th>liveness</th>\n",
       "      <th>loudness</th>\n",
       "      <th>speechiness</th>\n",
       "      <th>tempo</th>\n",
       "      <th>positive</th>\n",
       "      <th>drive</th>\n",
       "    </tr>\n",
       "  </thead>\n",
       "  <tbody>\n",
       "    <tr>\n",
       "      <th>118</th>\n",
       "      <td>Jona</td>\n",
       "      <td>Back in Time</td>\n",
       "      <td>0</td>\n",
       "      <td>160877</td>\n",
       "      <td>0.01080</td>\n",
       "      <td>0.000795</td>\n",
       "      <td>0.0748</td>\n",
       "      <td>-4.558</td>\n",
       "      <td>0.0598</td>\n",
       "      <td>139.998</td>\n",
       "      <td>0</td>\n",
       "      <td>1</td>\n",
       "    </tr>\n",
       "    <tr>\n",
       "      <th>337</th>\n",
       "      <td>Sarah Geronimo</td>\n",
       "      <td>Where Only Angels Fly</td>\n",
       "      <td>0</td>\n",
       "      <td>239880</td>\n",
       "      <td>0.05630</td>\n",
       "      <td>0.000000</td>\n",
       "      <td>0.0898</td>\n",
       "      <td>-6.997</td>\n",
       "      <td>0.0281</td>\n",
       "      <td>127.847</td>\n",
       "      <td>0</td>\n",
       "      <td>0</td>\n",
       "    </tr>\n",
       "    <tr>\n",
       "      <th>335</th>\n",
       "      <td>Sarah Geronimo</td>\n",
       "      <td>You'Re the Love Of My Life</td>\n",
       "      <td>0</td>\n",
       "      <td>235226</td>\n",
       "      <td>0.45800</td>\n",
       "      <td>0.000000</td>\n",
       "      <td>0.1940</td>\n",
       "      <td>-6.088</td>\n",
       "      <td>0.0282</td>\n",
       "      <td>127.920</td>\n",
       "      <td>0</td>\n",
       "      <td>1</td>\n",
       "    </tr>\n",
       "    <tr>\n",
       "      <th>347</th>\n",
       "      <td>Sarah Geronimo</td>\n",
       "      <td>What Have You Done to My Heart</td>\n",
       "      <td>0</td>\n",
       "      <td>229733</td>\n",
       "      <td>0.13000</td>\n",
       "      <td>0.000000</td>\n",
       "      <td>0.1580</td>\n",
       "      <td>-6.693</td>\n",
       "      <td>0.0282</td>\n",
       "      <td>101.782</td>\n",
       "      <td>0</td>\n",
       "      <td>1</td>\n",
       "    </tr>\n",
       "    <tr>\n",
       "      <th>346</th>\n",
       "      <td>Sarah Geronimo</td>\n",
       "      <td>I Am Falling</td>\n",
       "      <td>0</td>\n",
       "      <td>249453</td>\n",
       "      <td>0.26600</td>\n",
       "      <td>0.000000</td>\n",
       "      <td>0.0727</td>\n",
       "      <td>-5.704</td>\n",
       "      <td>0.0279</td>\n",
       "      <td>132.003</td>\n",
       "      <td>0</td>\n",
       "      <td>1</td>\n",
       "    </tr>\n",
       "    <tr>\n",
       "      <th>...</th>\n",
       "      <td>...</td>\n",
       "      <td>...</td>\n",
       "      <td>...</td>\n",
       "      <td>...</td>\n",
       "      <td>...</td>\n",
       "      <td>...</td>\n",
       "      <td>...</td>\n",
       "      <td>...</td>\n",
       "      <td>...</td>\n",
       "      <td>...</td>\n",
       "      <td>...</td>\n",
       "      <td>...</td>\n",
       "    </tr>\n",
       "    <tr>\n",
       "      <th>159</th>\n",
       "      <td>Jona</td>\n",
       "      <td>Summer</td>\n",
       "      <td>58</td>\n",
       "      <td>233239</td>\n",
       "      <td>0.00695</td>\n",
       "      <td>0.024100</td>\n",
       "      <td>0.2200</td>\n",
       "      <td>-4.798</td>\n",
       "      <td>0.0292</td>\n",
       "      <td>142.029</td>\n",
       "      <td>0</td>\n",
       "      <td>1</td>\n",
       "    </tr>\n",
       "    <tr>\n",
       "      <th>71</th>\n",
       "      <td>Jona</td>\n",
       "      <td>Hitta (feat. Juicy J)</td>\n",
       "      <td>59</td>\n",
       "      <td>170807</td>\n",
       "      <td>0.01700</td>\n",
       "      <td>0.000007</td>\n",
       "      <td>0.3570</td>\n",
       "      <td>-2.775</td>\n",
       "      <td>0.0708</td>\n",
       "      <td>145.103</td>\n",
       "      <td>0</td>\n",
       "      <td>1</td>\n",
       "    </tr>\n",
       "    <tr>\n",
       "      <th>194</th>\n",
       "      <td>Morissette</td>\n",
       "      <td>Nothing's Gonna Stop Us Now - From \"Crazy Beau...</td>\n",
       "      <td>60</td>\n",
       "      <td>258014</td>\n",
       "      <td>0.21600</td>\n",
       "      <td>0.000000</td>\n",
       "      <td>0.3040</td>\n",
       "      <td>-5.883</td>\n",
       "      <td>0.0296</td>\n",
       "      <td>185.998</td>\n",
       "      <td>0</td>\n",
       "      <td>1</td>\n",
       "    </tr>\n",
       "    <tr>\n",
       "      <th>167</th>\n",
       "      <td>Jona</td>\n",
       "      <td>Keep It Mello (feat. Omar LinX)</td>\n",
       "      <td>60</td>\n",
       "      <td>243380</td>\n",
       "      <td>0.00134</td>\n",
       "      <td>0.000689</td>\n",
       "      <td>0.0736</td>\n",
       "      <td>-3.348</td>\n",
       "      <td>0.0857</td>\n",
       "      <td>142.015</td>\n",
       "      <td>0</td>\n",
       "      <td>1</td>\n",
       "    </tr>\n",
       "    <tr>\n",
       "      <th>75</th>\n",
       "      <td>Jona</td>\n",
       "      <td>Shockwave</td>\n",
       "      <td>69</td>\n",
       "      <td>181283</td>\n",
       "      <td>0.02310</td>\n",
       "      <td>0.000005</td>\n",
       "      <td>0.1110</td>\n",
       "      <td>-2.897</td>\n",
       "      <td>0.0681</td>\n",
       "      <td>164.009</td>\n",
       "      <td>0</td>\n",
       "      <td>1</td>\n",
       "    </tr>\n",
       "  </tbody>\n",
       "</table>\n",
       "<p>315 rows × 12 columns</p>\n",
       "</div>"
      ],
      "text/plain": [
       "             artist                                               name  \\\n",
       "118            Jona                                       Back in Time   \n",
       "337  Sarah Geronimo                              Where Only Angels Fly   \n",
       "335  Sarah Geronimo                         You'Re the Love Of My Life   \n",
       "347  Sarah Geronimo                     What Have You Done to My Heart   \n",
       "346  Sarah Geronimo                                       I Am Falling   \n",
       "..              ...                                                ...   \n",
       "159            Jona                                             Summer   \n",
       "71             Jona                              Hitta (feat. Juicy J)   \n",
       "194      Morissette  Nothing's Gonna Stop Us Now - From \"Crazy Beau...   \n",
       "167            Jona                    Keep It Mello (feat. Omar LinX)   \n",
       "75             Jona                                          Shockwave   \n",
       "\n",
       "     popularity  duration_ms  acousticness  instrumentalness  liveness  \\\n",
       "118           0       160877       0.01080          0.000795    0.0748   \n",
       "337           0       239880       0.05630          0.000000    0.0898   \n",
       "335           0       235226       0.45800          0.000000    0.1940   \n",
       "347           0       229733       0.13000          0.000000    0.1580   \n",
       "346           0       249453       0.26600          0.000000    0.0727   \n",
       "..          ...          ...           ...               ...       ...   \n",
       "159          58       233239       0.00695          0.024100    0.2200   \n",
       "71           59       170807       0.01700          0.000007    0.3570   \n",
       "194          60       258014       0.21600          0.000000    0.3040   \n",
       "167          60       243380       0.00134          0.000689    0.0736   \n",
       "75           69       181283       0.02310          0.000005    0.1110   \n",
       "\n",
       "     loudness  speechiness    tempo  positive  drive  \n",
       "118    -4.558       0.0598  139.998         0      1  \n",
       "337    -6.997       0.0281  127.847         0      0  \n",
       "335    -6.088       0.0282  127.920         0      1  \n",
       "347    -6.693       0.0282  101.782         0      1  \n",
       "346    -5.704       0.0279  132.003         0      1  \n",
       "..        ...          ...      ...       ...    ...  \n",
       "159    -4.798       0.0292  142.029         0      1  \n",
       "71     -2.775       0.0708  145.103         0      1  \n",
       "194    -5.883       0.0296  185.998         0      1  \n",
       "167    -3.348       0.0857  142.015         0      1  \n",
       "75     -2.897       0.0681  164.009         0      1  \n",
       "\n",
       "[315 rows x 12 columns]"
      ]
     },
     "execution_count": 44,
     "metadata": {},
     "output_type": "execute_result"
    }
   ],
   "source": [
    "df"
   ]
  },
  {
   "cell_type": "code",
   "execution_count": null,
   "metadata": {
    "id": "5rhtfIADLTmI",
    "outputId": "660b1d6e-0a7c-4a0f-d713-d029bdae77ef"
   },
   "outputs": [
    {
     "name": "stdout",
     "output_type": "stream",
     "text": [
      "                            OLS Regression Results                            \n",
      "==============================================================================\n",
      "Dep. Variable:             popularity   R-squared:                       0.081\n",
      "Model:                            OLS   Adj. R-squared:                  0.054\n",
      "Method:                 Least Squares   F-statistic:                     2.973\n",
      "Date:                Wed, 26 Oct 2022   Prob (F-statistic):            0.00209\n",
      "Time:                        16:39:49   Log-Likelihood:                -1319.1\n",
      "No. Observations:                 315   AIC:                             2658.\n",
      "Df Residuals:                     305   BIC:                             2696.\n",
      "Df Model:                           9                                         \n",
      "Covariance Type:            nonrobust                                         \n",
      "====================================================================================\n",
      "                       coef    std err          t      P>|t|      [0.025      0.975]\n",
      "------------------------------------------------------------------------------------\n",
      "Intercept           11.4746      9.645      1.190      0.235      -7.505      30.454\n",
      "duration_ms       4.298e-05   2.57e-05      1.671      0.096   -7.62e-06    9.36e-05\n",
      "acousticness         4.1743      4.951      0.843      0.400      -5.567      13.916\n",
      "instrumentalness     6.7834      3.862      1.756      0.080      -0.817      14.384\n",
      "liveness             1.2618      7.419      0.170      0.865     -13.337      15.860\n",
      "loudness             1.6317      0.486      3.358      0.001       0.675       2.588\n",
      "speechiness         21.3325     27.062      0.788      0.431     -31.919      74.584\n",
      "tempo                0.0786      0.038      2.063      0.040       0.004       0.154\n",
      "positive            -2.5604      2.330     -1.099      0.273      -7.146       2.025\n",
      "drive               -5.1276      3.643     -1.407      0.160     -12.297       2.042\n",
      "==============================================================================\n",
      "Omnibus:                       22.655   Durbin-Watson:                   0.153\n",
      "Prob(Omnibus):                  0.000   Jarque-Bera (JB):               19.209\n",
      "Skew:                           0.523   Prob(JB):                     6.74e-05\n",
      "Kurtosis:                       2.393   Cond. No.                     6.75e+06\n",
      "==============================================================================\n",
      "\n",
      "Notes:\n",
      "[1] Standard Errors assume that the covariance matrix of the errors is correctly specified.\n",
      "[2] The condition number is large, 6.75e+06. This might indicate that there are\n",
      "strong multicollinearity or other numerical problems.\n"
     ]
    }
   ],
   "source": [
    "model = ols(\"popularity ~ duration_ms + acousticness + instrumentalness + liveness + loudness + speechiness + tempo + positive + drive\", df).fit()\n",
    "print(model.summary())"
   ]
  },
  {
   "cell_type": "markdown",
   "metadata": {
    "id": "hOwiu0NdLTmI"
   },
   "source": [
    "**Графики для статистически значимых переменных (Уровень доверия 90%)**"
   ]
  },
  {
   "cell_type": "code",
   "execution_count": null,
   "metadata": {
    "id": "kETPU6NJLTmJ",
    "outputId": "e77f019b-3d74-4bdc-ded5-7f0892a288dc"
   },
   "outputs": [
    {
     "data": {
      "image/png": "[encoded data removed]",
      "text/plain": [
       "<Figure size 360x360 with 1 Axes>"
      ]
     },
     "metadata": {},
     "output_type": "display_data"
    }
   ],
   "source": [
    "sns.lmplot(data = df, x = \"duration_ms\", y = \"popularity\");"
   ]
  },
  {
   "cell_type": "code",
   "execution_count": null,
   "metadata": {
    "id": "-jFS4b4VLTmJ",
    "outputId": "6e586eb1-3c99-43a5-9c7c-821cc4e6d61e"
   },
   "outputs": [
    {
     "data": {
      "image/png": "[encoded data removed]",
      "text/plain": [
       "<Figure size 360x360 with 1 Axes>"
      ]
     },
     "metadata": {},
     "output_type": "display_data"
    }
   ],
   "source": [
    "sns.lmplot(data = df, x = \"instrumentalness\", y = \"popularity\");"
   ]
  },
  {
   "cell_type": "code",
   "execution_count": null,
   "metadata": {
    "id": "Z7vB8aOELTmK",
    "outputId": "4fc4ff74-b046-4ebf-929f-1ddbe8768eba",
    "scrolled": true
   },
   "outputs": [
    {
     "data": {
      "image/png": "[encoded data removed]",
      "text/plain": [
       "<Figure size 360x360 with 1 Axes>"
      ]
     },
     "metadata": {},
     "output_type": "display_data"
    }
   ],
   "source": [
    "sns.lmplot(data = df, x = \"loudness\", y = \"popularity\");"
   ]
  },
  {
   "cell_type": "code",
   "execution_count": null,
   "metadata": {
    "id": "MH6wmNChLTmK",
    "outputId": "a5a606c8-81d3-478b-e8e5-50b4cd311a16"
   },
   "outputs": [
    {
     "data": {
      "image/png": "[encoded data removed]",
      "text/plain": [
       "<Figure size 360x360 with 1 Axes>"
      ]
     },
     "metadata": {},
     "output_type": "display_data"
    }
   ],
   "source": [
    "sns.lmplot(data = df, x = \"tempo\", y = \"popularity\");"
   ]
  },
  {
   "cell_type": "markdown",
   "metadata": {
    "id": "IVIJ8PLCLTmK"
   },
   "source": [
    "- У модели достаточно низкий R-squared. Дело в том, что в модели очень много независимых переменных, поэтому такой большой разброс данных. Попробуем построить новую модель, но уже только с теми переменными, у которых есть статистическая значимость"
   ]
  },
  {
   "cell_type": "code",
   "execution_count": null,
   "metadata": {
    "id": "Yht9NmfZLTmL",
    "outputId": "2dd2c83c-1c65-4204-b6a4-58a08efecd75"
   },
   "outputs": [
    {
     "name": "stdout",
     "output_type": "stream",
     "text": [
      "                            OLS Regression Results                            \n",
      "==============================================================================\n",
      "Dep. Variable:             popularity   R-squared:                       0.055\n",
      "Model:                            OLS   Adj. R-squared:                  0.043\n",
      "Method:                 Least Squares   F-statistic:                     4.494\n",
      "Date:                Wed, 26 Oct 2022   Prob (F-statistic):            0.00152\n",
      "Time:                        16:40:17   Log-Likelihood:                -1323.4\n",
      "No. Observations:                 315   AIC:                             2657.\n",
      "Df Residuals:                     310   BIC:                             2676.\n",
      "Df Model:                           4                                         \n",
      "Covariance Type:            nonrobust                                         \n",
      "====================================================================================\n",
      "                       coef    std err          t      P>|t|      [0.025      0.975]\n",
      "------------------------------------------------------------------------------------\n",
      "Intercept            0.3600      7.305      0.049      0.961     -14.014      14.734\n",
      "duration_ms       6.429e-05   2.43e-05      2.646      0.009    1.65e-05       0.000\n",
      "instrumentalness     6.0546      3.750      1.614      0.107      -1.325      13.434\n",
      "loudness             0.8404      0.370      2.272      0.024       0.113       1.568\n",
      "tempo                0.0784      0.038      2.075      0.039       0.004       0.153\n",
      "==============================================================================\n",
      "Omnibus:                       24.963   Durbin-Watson:                   0.102\n",
      "Prob(Omnibus):                  0.000   Jarque-Bera (JB):               18.378\n",
      "Skew:                           0.484   Prob(JB):                     0.000102\n",
      "Kurtosis:                       2.319   Cond. No.                     1.80e+06\n",
      "==============================================================================\n",
      "\n",
      "Notes:\n",
      "[1] Standard Errors assume that the covariance matrix of the errors is correctly specified.\n",
      "[2] The condition number is large, 1.8e+06. This might indicate that there are\n",
      "strong multicollinearity or other numerical problems.\n"
     ]
    }
   ],
   "source": [
    "model1 = ols(\"popularity ~ duration_ms + instrumentalness + loudness + tempo\", df).fit()\n",
    "print(model1.summary())"
   ]
  },
  {
   "cell_type": "markdown",
   "metadata": {
    "id": "jqM51s1aLTmL"
   },
   "source": [
    "- Попробуем вернуть переменную drive, так как она может влиять на длительность трека, то есть duration_ms"
   ]
  },
  {
   "cell_type": "code",
   "execution_count": null,
   "metadata": {
    "id": "oC84N7W_LTmL",
    "outputId": "c03ecf5d-39f4-46b6-df5e-96828e21c89d"
   },
   "outputs": [
    {
     "name": "stdout",
     "output_type": "stream",
     "text": [
      "                            OLS Regression Results                            \n",
      "==============================================================================\n",
      "Dep. Variable:             popularity   R-squared:                       0.074\n",
      "Model:                            OLS   Adj. R-squared:                  0.056\n",
      "Method:                 Least Squares   F-statistic:                     4.106\n",
      "Date:                Wed, 26 Oct 2022   Prob (F-statistic):           0.000556\n",
      "Time:                        16:40:25   Log-Likelihood:                -1320.2\n",
      "No. Observations:                 315   AIC:                             2654.\n",
      "Df Residuals:                     308   BIC:                             2681.\n",
      "Df Model:                           6                                         \n",
      "Covariance Type:            nonrobust                                         \n",
      "=====================================================================================\n",
      "                        coef    std err          t      P>|t|      [0.025      0.975]\n",
      "-------------------------------------------------------------------------------------\n",
      "Intercept            15.5190     13.845      1.121      0.263     -11.723      42.761\n",
      "duration_ms        4.107e-05   4.35e-05      0.943      0.346   -4.46e-05       0.000\n",
      "instrumentalness      5.6486      3.800      1.487      0.138      -1.828      13.125\n",
      "loudness              1.5873      0.492      3.229      0.001       0.620       2.555\n",
      "tempo                 0.0790      0.038      2.105      0.036       0.005       0.153\n",
      "drive                -9.4865     14.386     -0.659      0.510     -37.794      18.821\n",
      "duration_ms:drive  8.041e-06   5.57e-05      0.144      0.885      -0.000       0.000\n",
      "==============================================================================\n",
      "Omnibus:                       23.332   Durbin-Watson:                   0.140\n",
      "Prob(Omnibus):                  0.000   Jarque-Bera (JB):               19.290\n",
      "Skew:                           0.520   Prob(JB):                     6.48e-05\n",
      "Kurtosis:                       2.376   Cond. No.                     5.67e+06\n",
      "==============================================================================\n",
      "\n",
      "Notes:\n",
      "[1] Standard Errors assume that the covariance matrix of the errors is correctly specified.\n",
      "[2] The condition number is large, 5.67e+06. This might indicate that there are\n",
      "strong multicollinearity or other numerical problems.\n"
     ]
    }
   ],
   "source": [
    "model2 = ols(\"popularity ~ duration_ms + instrumentalness + loudness + tempo + drive + duration_ms:drive\", df).fit()\n",
    "print(model2.summary())"
   ]
  },
  {
   "cell_type": "markdown",
   "metadata": {
    "id": "HwTZIjn4LTmM"
   },
   "source": [
    "- Ни у переменной drive, ни у duration_ms * drive нет статистической значимости, поэтому мы должны признать, что они не влияют на позиции трека в чарте"
   ]
  },
  {
   "cell_type": "code",
   "execution_count": null,
   "metadata": {
    "id": "MHtn8sGELTmM",
    "outputId": "b2a8a577-399b-45dd-9ef8-761015a9cd24"
   },
   "outputs": [
    {
     "name": "stdout",
     "output_type": "stream",
     "text": [
      "                            OLS Regression Results                            \n",
      "==============================================================================\n",
      "Dep. Variable:             popularity   R-squared:                       0.055\n",
      "Model:                            OLS   Adj. R-squared:                  0.043\n",
      "Method:                 Least Squares   F-statistic:                     4.494\n",
      "Date:                Wed, 26 Oct 2022   Prob (F-statistic):            0.00152\n",
      "Time:                        16:40:44   Log-Likelihood:                -1323.4\n",
      "No. Observations:                 315   AIC:                             2657.\n",
      "Df Residuals:                     310   BIC:                             2676.\n",
      "Df Model:                           4                                         \n",
      "Covariance Type:            nonrobust                                         \n",
      "====================================================================================\n",
      "                       coef    std err          t      P>|t|      [0.025      0.975]\n",
      "------------------------------------------------------------------------------------\n",
      "Intercept            0.3600      7.305      0.049      0.961     -14.014      14.734\n",
      "duration_ms       6.429e-05   2.43e-05      2.646      0.009    1.65e-05       0.000\n",
      "instrumentalness     6.0546      3.750      1.614      0.107      -1.325      13.434\n",
      "loudness             0.8404      0.370      2.272      0.024       0.113       1.568\n",
      "tempo                0.0784      0.038      2.075      0.039       0.004       0.153\n",
      "==============================================================================\n",
      "Omnibus:                       24.963   Durbin-Watson:                   0.102\n",
      "Prob(Omnibus):                  0.000   Jarque-Bera (JB):               18.378\n",
      "Skew:                           0.484   Prob(JB):                     0.000102\n",
      "Kurtosis:                       2.319   Cond. No.                     1.80e+06\n",
      "==============================================================================\n",
      "\n",
      "Notes:\n",
      "[1] Standard Errors assume that the covariance matrix of the errors is correctly specified.\n",
      "[2] The condition number is large, 1.8e+06. This might indicate that there are\n",
      "strong multicollinearity or other numerical problems.\n"
     ]
    }
   ],
   "source": [
    "print(model1.summary()) # выведем ещё раз нашу модель со статистически значимыми переменными"
   ]
  },
  {
   "cell_type": "markdown",
   "metadata": {
    "id": "UevA-vRlLTmN"
   },
   "source": [
    "$$\\hat{popularity}_i = 0.36 + 6.429e-05 * duration-ms_i + 6.0546 * instrumentalness_i + 0.8404 * loudness_i + 0.0784 * tempo_i$$\n",
    "- При уровне доверия 90% все показатели являются статистически значимыми\n",
    "- При прочих равных условиях, при увеличении длительности нашей песни на 1 миллисекунду, в среднем, веротяность попасть в топ будет уменьшаться на 6.429e-05 (не стоит забывать, что 0 - это высокое положение в рейтинге, 69 - самое низкое; поэтому корреляция получается отрицательной)\n",
    "- При прочих равных условиях, при увеличении показателя instrumentalness на 0.1, в среднем, вероятность попасть в топ чарта будет уменьшаться на 6.0546\n",
    "- При прочих равных условиях, при увеличении показателя loudness на 1 децибел, в среднем, вероятность попасть в топ чарта будет уменьшаться на 0.8404\n",
    "- При прочих равных условиях, при увеличении темпа на одну единицу, в среднем, вероятность попасть в топ чарта будет ниже на 0.0784"
   ]
  },
  {
   "cell_type": "code",
   "execution_count": null,
   "metadata": {
    "id": "VQEoYbdKLTmN",
    "outputId": "b7f9e9be-eccd-4d48-b5f4-2af17fb6eb8c"
   },
   "outputs": [
    {
     "data": {
      "text/plain": [
       "False    315\n",
       "dtype: int64"
      ]
     },
     "execution_count": 53,
     "metadata": {},
     "output_type": "execute_result"
    }
   ],
   "source": [
    "(df['popularity'] == model1.predict(df)).value_counts() # модель не предсказывает верно ни одного варианта"
   ]
  },
  {
   "cell_type": "code",
   "execution_count": null,
   "metadata": {
    "id": "kZhDnoNeLTmO",
    "outputId": "57625892-d8ae-4181-bf82-fb4ead7c178e"
   },
   "outputs": [
    {
     "data": {
      "text/plain": [
       "118     0\n",
       "337     0\n",
       "335     0\n",
       "347     0\n",
       "346     0\n",
       "       ..\n",
       "159    58\n",
       "71     59\n",
       "194    60\n",
       "167    60\n",
       "75     69\n",
       "Name: popularity, Length: 315, dtype: int64"
      ]
     },
     "execution_count": 63,
     "metadata": {},
     "output_type": "execute_result"
    }
   ],
   "source": [
    "df['popularity']"
   ]
  },
  {
   "cell_type": "code",
   "execution_count": null,
   "metadata": {
    "id": "mecmNPzCLTmO",
    "outputId": "f4ad88ec-7f2b-4721-c552-f7df14306f74",
    "scrolled": true
   },
   "outputs": [
    {
     "data": {
      "text/plain": [
       "118    17.859948\n",
       "337    19.931409\n",
       "335    20.401878\n",
       "347    17.489770\n",
       "346    21.959608\n",
       "         ...    \n",
       "159    22.611040\n",
       "71     20.392593\n",
       "194    26.595393\n",
       "167    24.338835\n",
       "75     22.446720\n",
       "Length: 315, dtype: float64"
      ]
     },
     "execution_count": 54,
     "metadata": {},
     "output_type": "execute_result"
    }
   ],
   "source": [
    "model1.predict(df) # как видно, даже приблизительно не похоже на реальные варианты"
   ]
  },
  {
   "cell_type": "code",
   "execution_count": null,
   "metadata": {
    "id": "bKpUDuxWLTmP"
   },
   "outputs": [],
   "source": [
    "def popular_binary(x):\n",
    "    if x <= 34:\n",
    "        return 1\n",
    "    else:\n",
    "        return 0"
   ]
  },
  {
   "cell_type": "code",
   "execution_count": null,
   "metadata": {
    "id": "kYMlRJkTLTmP"
   },
   "outputs": [],
   "source": [
    "df['pop'] = df['popularity'].apply(popular_binary)"
   ]
  },
  {
   "cell_type": "code",
   "execution_count": null,
   "metadata": {
    "id": "E0fzKlRkLTmP"
   },
   "outputs": [],
   "source": [
    "df['predict'] = model1.predict(df)"
   ]
  },
  {
   "cell_type": "code",
   "execution_count": null,
   "metadata": {
    "id": "QG7v0s_1LTmQ"
   },
   "outputs": [],
   "source": [
    "df['predict_pop'] = df['predict'].apply(popular_binary)"
   ]
  },
  {
   "cell_type": "code",
   "execution_count": null,
   "metadata": {
    "id": "VpilO2nVLTmQ",
    "outputId": "19fbffa5-cea6-42dd-9334-edfc4c549326"
   },
   "outputs": [
    {
     "data": {
      "text/plain": [
       "True     243\n",
       "False     72\n",
       "dtype: int64"
      ]
     },
     "execution_count": 59,
     "metadata": {},
     "output_type": "execute_result"
    }
   ],
   "source": [
    "(df['pop'] == df['predict_pop']).value_counts() # если сильно огрубить результаты и разделить данные на популярные (1) и непопулярные (0)\n",
    "# по 50% рейтинга (69 // 2), то тогда модель предскажет верные значения в большей части случаев"
   ]
  },
  {
   "cell_type": "markdown",
   "metadata": {
    "id": "mAkKP9UZLTmQ"
   },
   "source": [
    "**Можем ли мы написать хит?**"
   ]
  },
  {
   "cell_type": "markdown",
   "metadata": {
    "id": "5N5YMbDELTmR"
   },
   "source": [
    "- Попробуем написать свою песню. Предположим, что мы сели за пианино, придумали быстро текст, аккомпанемент на инструменте и всё записали. Наши показатели получаются такими:\n",
    "- `duration_ms` = 150000 (2.5 минуты)\n",
    "- `instrumentalness` = 0.15 (У нас всего два инструмента: голос и пианино. Будем считать, что голос полноценным инструментом не является, поэтому + 0.5)\n",
    "- `loudness` = -6 децибел (пишем музыку по стандартам)\n",
    "- `tempo` = 120 bpm (обычный темп для популярной музыки)\n",
    "- Тогда мы займём следующее место в топ-чарте Spotify:"
   ]
  },
  {
   "cell_type": "code",
   "execution_count": null,
   "metadata": {
    "id": "Jk-Bx4_uLTmR",
    "outputId": "e8e3452e-94fc-42e6-8119-ca6073e95fab"
   },
   "outputs": [
    {
     "data": {
      "text/plain": [
       "0    15.283279\n",
       "dtype: float64"
      ]
     },
     "execution_count": 60,
     "metadata": {},
     "output_type": "execute_result"
    }
   ],
   "source": [
    "x = model1.predict(exog = {\"duration_ms\" : 150000, 'instrumentalness' : 0.15, 'loudness' : -6, 'tempo' : 120})\n",
    "x"
   ]
  },
  {
   "cell_type": "code",
   "execution_count": null,
   "metadata": {
    "id": "ywfUsqcMLTmR",
    "outputId": "1495e7c0-ec3a-4977-acaa-452818f9f6e9"
   },
   "outputs": [
    {
     "data": {
      "text/plain": [
       "0    1\n",
       "dtype: int64"
      ]
     },
     "execution_count": 61,
     "metadata": {},
     "output_type": "execute_result"
    }
   ],
   "source": [
    "x.apply(popular_binary) # ура, мы были попали в категорию популярных песен!"
   ]
  },
  {
   "cell_type": "markdown",
   "metadata": {
    "id": "9uVrp6RBLTmS"
   },
   "source": [
    "### Итоги исследования"
   ]
  },
  {
   "cell_type": "markdown",
   "metadata": {
    "id": "-RlB4QRpLTmT"
   },
   "source": [
    "**Вопросы:**\n",
    "- **Могут ли объективные показатели трека влиять на его популярность?**\n",
    "Выходит, что могут, но с очень маленькими веротяностями и большим разбросом значений\n",
    "- **Какие объективные показатели влияют на популярность трека?**\n",
    "На популярность трека влияют: длительность, инструментальность, громкость, темп\n",
    "- **Можем ли мы написать хит?**\n",
    "Выходит, что можем! Осталось его только записать"
   ]
  },
  {
   "cell_type": "markdown",
   "metadata": {
    "id": "O8NIav0zLTmT"
   },
   "source": [
    "**Гипотезы:**\n",
    "- **Объективные показатели влияют на качество трека.**\n",
    "Да, действительно влияют\n",
    "- **На популярность трека влияет его энергичность.**\n",
    "Оказывается, не влияет\n",
    "- **На популярность трека влияет его длительность.**\n",
    "Да, действительно влияет\n",
    "- **На популярность трека не влияет громкость.**\n",
    "Оказывается, что влияет!"
   ]
  },
  {
   "cell_type": "markdown",
   "metadata": {
    "id": "Hg8AUZ1ALTmU"
   },
   "source": [
    "**Странности:**\n",
    "\n",
    "- Модель очень плохо предсказывает значения. Это может говорить либо о том, что в индустрии популярной музыки на популярность трека влияют не только его объективные характеристики, но также и харизма артиста, пиар-стратегии его менджеров, либо о том, что наших данных недостаточно для точных выводов - при увеличении количества наблюдений, вероятность ошибиться может стать меньше\n",
    "- Такие явные показатели, как настроение и энергичность песни, не влияют на её популярность. Возможно, это связано с тем, что в большинстве случаев популярные исполнители и так стремятся к тому, чтобы сделать песню энергичной. А слушатель при этом готов слушать любую по настроению песню\n",
    "- Громкость влияет на популярность песни - чем менее экстремальны значения громкости, тем популярнее будет трек"
   ]
  },
  {
   "cell_type": "code",
   "execution_count": null,
   "metadata": {},
   "outputs": [],
   "source": []
  }
 ],
 "metadata": {
  "colab": {
   "provenance": []
  },
  "kernelspec": {
   "display_name": "Python 3 (ipykernel)",
   "language": "python",
   "name": "python3"
  },
  "language_info": {
   "codemirror_mode": {
    "name": "ipython",
    "version": 3
   },
   "file_extension": ".py",
   "mimetype": "text/x-python",
   "name": "python",
   "nbconvert_exporter": "python",
   "pygments_lexer": "ipython3",
   "version": "3.11.4"
  }
 },
 "nbformat": 4,
 "nbformat_minor": 1
}
